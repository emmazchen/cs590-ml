{
  "nbformat": 4,
  "nbformat_minor": 0,
  "metadata": {
    "colab": {
      "provenance": [],
      "toc_visible": true,
      "authorship_tag": "ABX9TyND2wp49DKmE78YSVvQBaxk"
    },
    "kernelspec": {
      "name": "python3",
      "display_name": "Python 3"
    },
    "language_info": {
      "name": "python"
    }
  },
  "cells": [
    {
      "cell_type": "markdown",
      "source": [
        "file:///Users/emmachen/Downloads/MP3.html\n"
      ],
      "metadata": {
        "id": "gBcrobte7zZT"
      }
    },
    {
      "cell_type": "markdown",
      "source": [
        "# Section 1"
      ],
      "metadata": {
        "id": "YWlxEI2sx8h3"
      }
    },
    {
      "cell_type": "markdown",
      "source": [
        "Part a)"
      ],
      "metadata": {
        "id": "UiZRHideyAMc"
      }
    },
    {
      "cell_type": "code",
      "execution_count": null,
      "metadata": {
        "id": "Hq2eROrmx1Kg"
      },
      "outputs": [],
      "source": [
        "# Library imports\n",
        "import numpy as np\n",
        "\n",
        "import matplotlib.pyplot as plt\n",
        "import matplotlib.patches as patches\n",
        "\n",
        "import pandas as pd\n",
        "\n",
        "import seaborn as sns #library for data visualization\n",
        "\n",
        "import math"
      ]
    },
    {
      "cell_type": "markdown",
      "source": [
        "Part b)"
      ],
      "metadata": {
        "id": "DExPUz3nymP_"
      }
    },
    {
      "cell_type": "code",
      "source": [
        "# Initialize default values to make stuff prettier \n",
        "sns.set() "
      ],
      "metadata": {
        "id": "TEM6LwCeyjNR"
      },
      "execution_count": null,
      "outputs": []
    },
    {
      "cell_type": "markdown",
      "source": [
        "Part c)"
      ],
      "metadata": {
        "id": "PUMHBi0Xyuyc"
      }
    },
    {
      "cell_type": "code",
      "source": [
        "# Upload data\n",
        "from google.colab import drive\n",
        "drive.mount('/content/drive/')\n",
        "\n",
        "data_raw = pd.read_csv('/content/drive/My Drive/Colab Notebooks/Data/NFLRush.csv')\n"
      ],
      "metadata": {
        "id": "buQ7qjs2yval"
      },
      "execution_count": null,
      "outputs": []
    },
    {
      "cell_type": "markdown",
      "source": [
        "Part d)"
      ],
      "metadata": {
        "id": "n1rbI4_B7LYa"
      }
    },
    {
      "cell_type": "code",
      "source": [
        "display(data_raw)"
      ],
      "metadata": {
        "id": "jskFZmzf03z-",
        "colab": {
          "base_uri": "https://localhost:8080/",
          "height": 661
        },
        "outputId": "d2ec9711-af6a-4ccb-fde2-1d44ec477ae7"
      },
      "execution_count": null,
      "outputs": [
        {
          "output_type": "display_data",
          "data": {
            "text/html": [
              "\n",
              "  <div id=\"df-4f3f34d9-47cf-4ff8-a0da-fc7246fa045a\">\n",
              "    <div class=\"colab-df-container\">\n",
              "      <div>\n",
              "<style scoped>\n",
              "    .dataframe tbody tr th:only-of-type {\n",
              "        vertical-align: middle;\n",
              "    }\n",
              "\n",
              "    .dataframe tbody tr th {\n",
              "        vertical-align: top;\n",
              "    }\n",
              "\n",
              "    .dataframe thead th {\n",
              "        text-align: right;\n",
              "    }\n",
              "</style>\n",
              "<table border=\"1\" class=\"dataframe\">\n",
              "  <thead>\n",
              "    <tr style=\"text-align: right;\">\n",
              "      <th></th>\n",
              "      <th>GameId</th>\n",
              "      <th>PlayId</th>\n",
              "      <th>Team</th>\n",
              "      <th>X</th>\n",
              "      <th>Y</th>\n",
              "      <th>S</th>\n",
              "      <th>A</th>\n",
              "      <th>Dis</th>\n",
              "      <th>Orientation</th>\n",
              "      <th>Dir</th>\n",
              "      <th>NflId</th>\n",
              "      <th>DisplayName</th>\n",
              "      <th>JerseyNumber</th>\n",
              "      <th>Season</th>\n",
              "      <th>YardLine</th>\n",
              "      <th>Quarter</th>\n",
              "      <th>GameClock</th>\n",
              "      <th>PossessionTeam</th>\n",
              "      <th>Down</th>\n",
              "      <th>Distance</th>\n",
              "      <th>FieldPosition</th>\n",
              "      <th>HomeScoreBeforePlay</th>\n",
              "      <th>VisitorScoreBeforePlay</th>\n",
              "      <th>NflIdRusher</th>\n",
              "      <th>OffenseFormation</th>\n",
              "      <th>OffensePersonnel</th>\n",
              "      <th>DefendersInTheBox</th>\n",
              "      <th>DefensePersonnel</th>\n",
              "      <th>PlayDirection</th>\n",
              "      <th>TimeHandoff</th>\n",
              "      <th>TimeSnap</th>\n",
              "      <th>Yards</th>\n",
              "      <th>PlayerHeight</th>\n",
              "      <th>PlayerWeight</th>\n",
              "      <th>PlayerBirthDate</th>\n",
              "      <th>PlayerCollegeName</th>\n",
              "      <th>Position</th>\n",
              "      <th>HomeTeamAbbr</th>\n",
              "      <th>VisitorTeamAbbr</th>\n",
              "      <th>Week</th>\n",
              "      <th>Stadium</th>\n",
              "      <th>Location</th>\n",
              "      <th>StadiumType</th>\n",
              "      <th>Turf</th>\n",
              "      <th>GameWeather</th>\n",
              "      <th>Temperature</th>\n",
              "      <th>Humidity</th>\n",
              "      <th>WindSpeed</th>\n",
              "      <th>WindDirection</th>\n",
              "    </tr>\n",
              "  </thead>\n",
              "  <tbody>\n",
              "    <tr>\n",
              "      <th>0</th>\n",
              "      <td>2017090700</td>\n",
              "      <td>20170907000118</td>\n",
              "      <td>away</td>\n",
              "      <td>73.91</td>\n",
              "      <td>34.84</td>\n",
              "      <td>1.69</td>\n",
              "      <td>1.13</td>\n",
              "      <td>0.40</td>\n",
              "      <td>81.99</td>\n",
              "      <td>177.18</td>\n",
              "      <td>496723</td>\n",
              "      <td>Eric Berry</td>\n",
              "      <td>29</td>\n",
              "      <td>2017</td>\n",
              "      <td>35</td>\n",
              "      <td>1</td>\n",
              "      <td>14:14:00</td>\n",
              "      <td>NE</td>\n",
              "      <td>3</td>\n",
              "      <td>2</td>\n",
              "      <td>NE</td>\n",
              "      <td>0</td>\n",
              "      <td>0</td>\n",
              "      <td>2543773</td>\n",
              "      <td>SHOTGUN</td>\n",
              "      <td>1 RB, 1 TE, 3 WR</td>\n",
              "      <td>6.0</td>\n",
              "      <td>2 DL, 3 LB, 6 DB</td>\n",
              "      <td>left</td>\n",
              "      <td>2017-09-08T00:44:06.000Z</td>\n",
              "      <td>2017-09-08T00:44:05.000Z</td>\n",
              "      <td>8</td>\n",
              "      <td>6-0</td>\n",
              "      <td>212</td>\n",
              "      <td>12/29/1988</td>\n",
              "      <td>Tennessee</td>\n",
              "      <td>SS</td>\n",
              "      <td>NE</td>\n",
              "      <td>KC</td>\n",
              "      <td>1</td>\n",
              "      <td>Gillette Stadium</td>\n",
              "      <td>Foxborough, MA</td>\n",
              "      <td>Outdoor</td>\n",
              "      <td>Field Turf</td>\n",
              "      <td>Clear and warm</td>\n",
              "      <td>63.0</td>\n",
              "      <td>77.0</td>\n",
              "      <td>8.0</td>\n",
              "      <td>SW</td>\n",
              "    </tr>\n",
              "    <tr>\n",
              "      <th>1</th>\n",
              "      <td>2017090700</td>\n",
              "      <td>20170907000118</td>\n",
              "      <td>away</td>\n",
              "      <td>74.67</td>\n",
              "      <td>32.64</td>\n",
              "      <td>0.42</td>\n",
              "      <td>1.35</td>\n",
              "      <td>0.01</td>\n",
              "      <td>27.61</td>\n",
              "      <td>198.70</td>\n",
              "      <td>2495116</td>\n",
              "      <td>Allen Bailey</td>\n",
              "      <td>97</td>\n",
              "      <td>2017</td>\n",
              "      <td>35</td>\n",
              "      <td>1</td>\n",
              "      <td>14:14:00</td>\n",
              "      <td>NE</td>\n",
              "      <td>3</td>\n",
              "      <td>2</td>\n",
              "      <td>NE</td>\n",
              "      <td>0</td>\n",
              "      <td>0</td>\n",
              "      <td>2543773</td>\n",
              "      <td>SHOTGUN</td>\n",
              "      <td>1 RB, 1 TE, 3 WR</td>\n",
              "      <td>6.0</td>\n",
              "      <td>2 DL, 3 LB, 6 DB</td>\n",
              "      <td>left</td>\n",
              "      <td>2017-09-08T00:44:06.000Z</td>\n",
              "      <td>2017-09-08T00:44:05.000Z</td>\n",
              "      <td>8</td>\n",
              "      <td>6-3</td>\n",
              "      <td>288</td>\n",
              "      <td>03/25/1989</td>\n",
              "      <td>Miami</td>\n",
              "      <td>DE</td>\n",
              "      <td>NE</td>\n",
              "      <td>KC</td>\n",
              "      <td>1</td>\n",
              "      <td>Gillette Stadium</td>\n",
              "      <td>Foxborough, MA</td>\n",
              "      <td>Outdoor</td>\n",
              "      <td>Field Turf</td>\n",
              "      <td>Clear and warm</td>\n",
              "      <td>63.0</td>\n",
              "      <td>77.0</td>\n",
              "      <td>8.0</td>\n",
              "      <td>SW</td>\n",
              "    </tr>\n",
              "    <tr>\n",
              "      <th>2</th>\n",
              "      <td>2017090700</td>\n",
              "      <td>20170907000118</td>\n",
              "      <td>away</td>\n",
              "      <td>74.00</td>\n",
              "      <td>33.20</td>\n",
              "      <td>1.22</td>\n",
              "      <td>0.59</td>\n",
              "      <td>0.31</td>\n",
              "      <td>3.01</td>\n",
              "      <td>202.73</td>\n",
              "      <td>2495493</td>\n",
              "      <td>Justin Houston</td>\n",
              "      <td>50</td>\n",
              "      <td>2017</td>\n",
              "      <td>35</td>\n",
              "      <td>1</td>\n",
              "      <td>14:14:00</td>\n",
              "      <td>NE</td>\n",
              "      <td>3</td>\n",
              "      <td>2</td>\n",
              "      <td>NE</td>\n",
              "      <td>0</td>\n",
              "      <td>0</td>\n",
              "      <td>2543773</td>\n",
              "      <td>SHOTGUN</td>\n",
              "      <td>1 RB, 1 TE, 3 WR</td>\n",
              "      <td>6.0</td>\n",
              "      <td>2 DL, 3 LB, 6 DB</td>\n",
              "      <td>left</td>\n",
              "      <td>2017-09-08T00:44:06.000Z</td>\n",
              "      <td>2017-09-08T00:44:05.000Z</td>\n",
              "      <td>8</td>\n",
              "      <td>6-3</td>\n",
              "      <td>270</td>\n",
              "      <td>01/21/1989</td>\n",
              "      <td>Georgia</td>\n",
              "      <td>DE</td>\n",
              "      <td>NE</td>\n",
              "      <td>KC</td>\n",
              "      <td>1</td>\n",
              "      <td>Gillette Stadium</td>\n",
              "      <td>Foxborough, MA</td>\n",
              "      <td>Outdoor</td>\n",
              "      <td>Field Turf</td>\n",
              "      <td>Clear and warm</td>\n",
              "      <td>63.0</td>\n",
              "      <td>77.0</td>\n",
              "      <td>8.0</td>\n",
              "      <td>SW</td>\n",
              "    </tr>\n",
              "    <tr>\n",
              "      <th>3</th>\n",
              "      <td>2017090700</td>\n",
              "      <td>20170907000118</td>\n",
              "      <td>away</td>\n",
              "      <td>71.46</td>\n",
              "      <td>27.70</td>\n",
              "      <td>0.42</td>\n",
              "      <td>0.54</td>\n",
              "      <td>0.02</td>\n",
              "      <td>359.77</td>\n",
              "      <td>105.64</td>\n",
              "      <td>2506353</td>\n",
              "      <td>Derrick Johnson</td>\n",
              "      <td>56</td>\n",
              "      <td>2017</td>\n",
              "      <td>35</td>\n",
              "      <td>1</td>\n",
              "      <td>14:14:00</td>\n",
              "      <td>NE</td>\n",
              "      <td>3</td>\n",
              "      <td>2</td>\n",
              "      <td>NE</td>\n",
              "      <td>0</td>\n",
              "      <td>0</td>\n",
              "      <td>2543773</td>\n",
              "      <td>SHOTGUN</td>\n",
              "      <td>1 RB, 1 TE, 3 WR</td>\n",
              "      <td>6.0</td>\n",
              "      <td>2 DL, 3 LB, 6 DB</td>\n",
              "      <td>left</td>\n",
              "      <td>2017-09-08T00:44:06.000Z</td>\n",
              "      <td>2017-09-08T00:44:05.000Z</td>\n",
              "      <td>8</td>\n",
              "      <td>6-3</td>\n",
              "      <td>245</td>\n",
              "      <td>11/22/1982</td>\n",
              "      <td>Texas</td>\n",
              "      <td>ILB</td>\n",
              "      <td>NE</td>\n",
              "      <td>KC</td>\n",
              "      <td>1</td>\n",
              "      <td>Gillette Stadium</td>\n",
              "      <td>Foxborough, MA</td>\n",
              "      <td>Outdoor</td>\n",
              "      <td>Field Turf</td>\n",
              "      <td>Clear and warm</td>\n",
              "      <td>63.0</td>\n",
              "      <td>77.0</td>\n",
              "      <td>8.0</td>\n",
              "      <td>SW</td>\n",
              "    </tr>\n",
              "    <tr>\n",
              "      <th>4</th>\n",
              "      <td>2017090700</td>\n",
              "      <td>20170907000118</td>\n",
              "      <td>away</td>\n",
              "      <td>69.32</td>\n",
              "      <td>35.42</td>\n",
              "      <td>1.82</td>\n",
              "      <td>2.43</td>\n",
              "      <td>0.16</td>\n",
              "      <td>12.63</td>\n",
              "      <td>164.31</td>\n",
              "      <td>2530794</td>\n",
              "      <td>Ron Parker</td>\n",
              "      <td>38</td>\n",
              "      <td>2017</td>\n",
              "      <td>35</td>\n",
              "      <td>1</td>\n",
              "      <td>14:14:00</td>\n",
              "      <td>NE</td>\n",
              "      <td>3</td>\n",
              "      <td>2</td>\n",
              "      <td>NE</td>\n",
              "      <td>0</td>\n",
              "      <td>0</td>\n",
              "      <td>2543773</td>\n",
              "      <td>SHOTGUN</td>\n",
              "      <td>1 RB, 1 TE, 3 WR</td>\n",
              "      <td>6.0</td>\n",
              "      <td>2 DL, 3 LB, 6 DB</td>\n",
              "      <td>left</td>\n",
              "      <td>2017-09-08T00:44:06.000Z</td>\n",
              "      <td>2017-09-08T00:44:05.000Z</td>\n",
              "      <td>8</td>\n",
              "      <td>6-0</td>\n",
              "      <td>206</td>\n",
              "      <td>08/17/1987</td>\n",
              "      <td>Newberry</td>\n",
              "      <td>FS</td>\n",
              "      <td>NE</td>\n",
              "      <td>KC</td>\n",
              "      <td>1</td>\n",
              "      <td>Gillette Stadium</td>\n",
              "      <td>Foxborough, MA</td>\n",
              "      <td>Outdoor</td>\n",
              "      <td>Field Turf</td>\n",
              "      <td>Clear and warm</td>\n",
              "      <td>63.0</td>\n",
              "      <td>77.0</td>\n",
              "      <td>8.0</td>\n",
              "      <td>SW</td>\n",
              "    </tr>\n",
              "    <tr>\n",
              "      <th>...</th>\n",
              "      <td>...</td>\n",
              "      <td>...</td>\n",
              "      <td>...</td>\n",
              "      <td>...</td>\n",
              "      <td>...</td>\n",
              "      <td>...</td>\n",
              "      <td>...</td>\n",
              "      <td>...</td>\n",
              "      <td>...</td>\n",
              "      <td>...</td>\n",
              "      <td>...</td>\n",
              "      <td>...</td>\n",
              "      <td>...</td>\n",
              "      <td>...</td>\n",
              "      <td>...</td>\n",
              "      <td>...</td>\n",
              "      <td>...</td>\n",
              "      <td>...</td>\n",
              "      <td>...</td>\n",
              "      <td>...</td>\n",
              "      <td>...</td>\n",
              "      <td>...</td>\n",
              "      <td>...</td>\n",
              "      <td>...</td>\n",
              "      <td>...</td>\n",
              "      <td>...</td>\n",
              "      <td>...</td>\n",
              "      <td>...</td>\n",
              "      <td>...</td>\n",
              "      <td>...</td>\n",
              "      <td>...</td>\n",
              "      <td>...</td>\n",
              "      <td>...</td>\n",
              "      <td>...</td>\n",
              "      <td>...</td>\n",
              "      <td>...</td>\n",
              "      <td>...</td>\n",
              "      <td>...</td>\n",
              "      <td>...</td>\n",
              "      <td>...</td>\n",
              "      <td>...</td>\n",
              "      <td>...</td>\n",
              "      <td>...</td>\n",
              "      <td>...</td>\n",
              "      <td>...</td>\n",
              "      <td>...</td>\n",
              "      <td>...</td>\n",
              "      <td>...</td>\n",
              "      <td>...</td>\n",
              "    </tr>\n",
              "    <tr>\n",
              "      <th>509757</th>\n",
              "      <td>2018123015</td>\n",
              "      <td>20181230154157</td>\n",
              "      <td>home</td>\n",
              "      <td>86.77</td>\n",
              "      <td>24.20</td>\n",
              "      <td>2.14</td>\n",
              "      <td>2.12</td>\n",
              "      <td>0.22</td>\n",
              "      <td>44.55</td>\n",
              "      <td>15.31</td>\n",
              "      <td>2555289</td>\n",
              "      <td>Nick Vannett</td>\n",
              "      <td>81</td>\n",
              "      <td>2018</td>\n",
              "      <td>23</td>\n",
              "      <td>4</td>\n",
              "      <td>00:16:00</td>\n",
              "      <td>SEA</td>\n",
              "      <td>2</td>\n",
              "      <td>8</td>\n",
              "      <td>ARZ</td>\n",
              "      <td>24</td>\n",
              "      <td>24</td>\n",
              "      <td>2558865</td>\n",
              "      <td>SINGLEBACK</td>\n",
              "      <td>6 OL, 1 RB, 2 TE, 1 WR</td>\n",
              "      <td>9.0</td>\n",
              "      <td>4 DL, 3 LB, 4 DB</td>\n",
              "      <td>right</td>\n",
              "      <td>2018-12-31T00:24:51.000Z</td>\n",
              "      <td>2018-12-31T00:24:49.000Z</td>\n",
              "      <td>11</td>\n",
              "      <td>6-6</td>\n",
              "      <td>261</td>\n",
              "      <td>03/06/1993</td>\n",
              "      <td>Ohio State</td>\n",
              "      <td>TE</td>\n",
              "      <td>SEA</td>\n",
              "      <td>ARI</td>\n",
              "      <td>17</td>\n",
              "      <td>CenturyLink Field</td>\n",
              "      <td>Seattle, WA</td>\n",
              "      <td>Outdoor</td>\n",
              "      <td>FieldTurf</td>\n",
              "      <td>Cloudy</td>\n",
              "      <td>45.0</td>\n",
              "      <td>76.0</td>\n",
              "      <td>5</td>\n",
              "      <td>SE</td>\n",
              "    </tr>\n",
              "    <tr>\n",
              "      <th>509758</th>\n",
              "      <td>2018123015</td>\n",
              "      <td>20181230154157</td>\n",
              "      <td>home</td>\n",
              "      <td>86.76</td>\n",
              "      <td>27.18</td>\n",
              "      <td>1.16</td>\n",
              "      <td>0.66</td>\n",
              "      <td>0.11</td>\n",
              "      <td>53.63</td>\n",
              "      <td>42.80</td>\n",
              "      <td>2555395</td>\n",
              "      <td>Germain Ifedi</td>\n",
              "      <td>65</td>\n",
              "      <td>2018</td>\n",
              "      <td>23</td>\n",
              "      <td>4</td>\n",
              "      <td>00:16:00</td>\n",
              "      <td>SEA</td>\n",
              "      <td>2</td>\n",
              "      <td>8</td>\n",
              "      <td>ARZ</td>\n",
              "      <td>24</td>\n",
              "      <td>24</td>\n",
              "      <td>2558865</td>\n",
              "      <td>SINGLEBACK</td>\n",
              "      <td>6 OL, 1 RB, 2 TE, 1 WR</td>\n",
              "      <td>9.0</td>\n",
              "      <td>4 DL, 3 LB, 4 DB</td>\n",
              "      <td>right</td>\n",
              "      <td>2018-12-31T00:24:51.000Z</td>\n",
              "      <td>2018-12-31T00:24:49.000Z</td>\n",
              "      <td>11</td>\n",
              "      <td>6-5</td>\n",
              "      <td>325</td>\n",
              "      <td>06/02/1994</td>\n",
              "      <td>Texas A&amp;M</td>\n",
              "      <td>G</td>\n",
              "      <td>SEA</td>\n",
              "      <td>ARI</td>\n",
              "      <td>17</td>\n",
              "      <td>CenturyLink Field</td>\n",
              "      <td>Seattle, WA</td>\n",
              "      <td>Outdoor</td>\n",
              "      <td>FieldTurf</td>\n",
              "      <td>Cloudy</td>\n",
              "      <td>45.0</td>\n",
              "      <td>76.0</td>\n",
              "      <td>5</td>\n",
              "      <td>SE</td>\n",
              "    </tr>\n",
              "    <tr>\n",
              "      <th>509759</th>\n",
              "      <td>2018123015</td>\n",
              "      <td>20181230154157</td>\n",
              "      <td>home</td>\n",
              "      <td>87.26</td>\n",
              "      <td>27.05</td>\n",
              "      <td>2.59</td>\n",
              "      <td>1.18</td>\n",
              "      <td>0.26</td>\n",
              "      <td>3.96</td>\n",
              "      <td>21.12</td>\n",
              "      <td>2556524</td>\n",
              "      <td>George Fant</td>\n",
              "      <td>74</td>\n",
              "      <td>2018</td>\n",
              "      <td>23</td>\n",
              "      <td>4</td>\n",
              "      <td>00:16:00</td>\n",
              "      <td>SEA</td>\n",
              "      <td>2</td>\n",
              "      <td>8</td>\n",
              "      <td>ARZ</td>\n",
              "      <td>24</td>\n",
              "      <td>24</td>\n",
              "      <td>2558865</td>\n",
              "      <td>SINGLEBACK</td>\n",
              "      <td>6 OL, 1 RB, 2 TE, 1 WR</td>\n",
              "      <td>9.0</td>\n",
              "      <td>4 DL, 3 LB, 4 DB</td>\n",
              "      <td>right</td>\n",
              "      <td>2018-12-31T00:24:51.000Z</td>\n",
              "      <td>2018-12-31T00:24:49.000Z</td>\n",
              "      <td>11</td>\n",
              "      <td>6-5</td>\n",
              "      <td>322</td>\n",
              "      <td>07/19/1992</td>\n",
              "      <td>Western Kentucky</td>\n",
              "      <td>OT</td>\n",
              "      <td>SEA</td>\n",
              "      <td>ARI</td>\n",
              "      <td>17</td>\n",
              "      <td>CenturyLink Field</td>\n",
              "      <td>Seattle, WA</td>\n",
              "      <td>Outdoor</td>\n",
              "      <td>FieldTurf</td>\n",
              "      <td>Cloudy</td>\n",
              "      <td>45.0</td>\n",
              "      <td>76.0</td>\n",
              "      <td>5</td>\n",
              "      <td>SE</td>\n",
              "    </tr>\n",
              "    <tr>\n",
              "      <th>509760</th>\n",
              "      <td>2018123015</td>\n",
              "      <td>20181230154157</td>\n",
              "      <td>home</td>\n",
              "      <td>84.57</td>\n",
              "      <td>24.37</td>\n",
              "      <td>4.36</td>\n",
              "      <td>1.79</td>\n",
              "      <td>0.47</td>\n",
              "      <td>148.08</td>\n",
              "      <td>183.34</td>\n",
              "      <td>2557891</td>\n",
              "      <td>Ethan Pocic</td>\n",
              "      <td>77</td>\n",
              "      <td>2018</td>\n",
              "      <td>23</td>\n",
              "      <td>4</td>\n",
              "      <td>00:16:00</td>\n",
              "      <td>SEA</td>\n",
              "      <td>2</td>\n",
              "      <td>8</td>\n",
              "      <td>ARZ</td>\n",
              "      <td>24</td>\n",
              "      <td>24</td>\n",
              "      <td>2558865</td>\n",
              "      <td>SINGLEBACK</td>\n",
              "      <td>6 OL, 1 RB, 2 TE, 1 WR</td>\n",
              "      <td>9.0</td>\n",
              "      <td>4 DL, 3 LB, 4 DB</td>\n",
              "      <td>right</td>\n",
              "      <td>2018-12-31T00:24:51.000Z</td>\n",
              "      <td>2018-12-31T00:24:49.000Z</td>\n",
              "      <td>11</td>\n",
              "      <td>6-6</td>\n",
              "      <td>320</td>\n",
              "      <td>08/05/1995</td>\n",
              "      <td>Louisiana State</td>\n",
              "      <td>C</td>\n",
              "      <td>SEA</td>\n",
              "      <td>ARI</td>\n",
              "      <td>17</td>\n",
              "      <td>CenturyLink Field</td>\n",
              "      <td>Seattle, WA</td>\n",
              "      <td>Outdoor</td>\n",
              "      <td>FieldTurf</td>\n",
              "      <td>Cloudy</td>\n",
              "      <td>45.0</td>\n",
              "      <td>76.0</td>\n",
              "      <td>5</td>\n",
              "      <td>SE</td>\n",
              "    </tr>\n",
              "    <tr>\n",
              "      <th>509761</th>\n",
              "      <td>2018123015</td>\n",
              "      <td>20181230154157</td>\n",
              "      <td>home</td>\n",
              "      <td>80.80</td>\n",
              "      <td>26.35</td>\n",
              "      <td>4.87</td>\n",
              "      <td>4.10</td>\n",
              "      <td>0.45</td>\n",
              "      <td>135.44</td>\n",
              "      <td>118.24</td>\n",
              "      <td>2558865</td>\n",
              "      <td>Chris Carson</td>\n",
              "      <td>32</td>\n",
              "      <td>2018</td>\n",
              "      <td>23</td>\n",
              "      <td>4</td>\n",
              "      <td>00:16:00</td>\n",
              "      <td>SEA</td>\n",
              "      <td>2</td>\n",
              "      <td>8</td>\n",
              "      <td>ARZ</td>\n",
              "      <td>24</td>\n",
              "      <td>24</td>\n",
              "      <td>2558865</td>\n",
              "      <td>SINGLEBACK</td>\n",
              "      <td>6 OL, 1 RB, 2 TE, 1 WR</td>\n",
              "      <td>9.0</td>\n",
              "      <td>4 DL, 3 LB, 4 DB</td>\n",
              "      <td>right</td>\n",
              "      <td>2018-12-31T00:24:51.000Z</td>\n",
              "      <td>2018-12-31T00:24:49.000Z</td>\n",
              "      <td>11</td>\n",
              "      <td>5-11</td>\n",
              "      <td>222</td>\n",
              "      <td>09/16/1994</td>\n",
              "      <td>Oklahoma State</td>\n",
              "      <td>RB</td>\n",
              "      <td>SEA</td>\n",
              "      <td>ARI</td>\n",
              "      <td>17</td>\n",
              "      <td>CenturyLink Field</td>\n",
              "      <td>Seattle, WA</td>\n",
              "      <td>Outdoor</td>\n",
              "      <td>FieldTurf</td>\n",
              "      <td>Cloudy</td>\n",
              "      <td>45.0</td>\n",
              "      <td>76.0</td>\n",
              "      <td>5</td>\n",
              "      <td>SE</td>\n",
              "    </tr>\n",
              "  </tbody>\n",
              "</table>\n",
              "<p>509762 rows × 49 columns</p>\n",
              "</div>\n",
              "      <button class=\"colab-df-convert\" onclick=\"convertToInteractive('df-4f3f34d9-47cf-4ff8-a0da-fc7246fa045a')\"\n",
              "              title=\"Convert this dataframe to an interactive table.\"\n",
              "              style=\"display:none;\">\n",
              "        \n",
              "  <svg xmlns=\"http://www.w3.org/2000/svg\" height=\"24px\"viewBox=\"0 0 24 24\"\n",
              "       width=\"24px\">\n",
              "    <path d=\"M0 0h24v24H0V0z\" fill=\"none\"/>\n",
              "    <path d=\"M18.56 5.44l.94 2.06.94-2.06 2.06-.94-2.06-.94-.94-2.06-.94 2.06-2.06.94zm-11 1L8.5 8.5l.94-2.06 2.06-.94-2.06-.94L8.5 2.5l-.94 2.06-2.06.94zm10 10l.94 2.06.94-2.06 2.06-.94-2.06-.94-.94-2.06-.94 2.06-2.06.94z\"/><path d=\"M17.41 7.96l-1.37-1.37c-.4-.4-.92-.59-1.43-.59-.52 0-1.04.2-1.43.59L10.3 9.45l-7.72 7.72c-.78.78-.78 2.05 0 2.83L4 21.41c.39.39.9.59 1.41.59.51 0 1.02-.2 1.41-.59l7.78-7.78 2.81-2.81c.8-.78.8-2.07 0-2.86zM5.41 20L4 18.59l7.72-7.72 1.47 1.35L5.41 20z\"/>\n",
              "  </svg>\n",
              "      </button>\n",
              "      \n",
              "  <style>\n",
              "    .colab-df-container {\n",
              "      display:flex;\n",
              "      flex-wrap:wrap;\n",
              "      gap: 12px;\n",
              "    }\n",
              "\n",
              "    .colab-df-convert {\n",
              "      background-color: #E8F0FE;\n",
              "      border: none;\n",
              "      border-radius: 50%;\n",
              "      cursor: pointer;\n",
              "      display: none;\n",
              "      fill: #1967D2;\n",
              "      height: 32px;\n",
              "      padding: 0 0 0 0;\n",
              "      width: 32px;\n",
              "    }\n",
              "\n",
              "    .colab-df-convert:hover {\n",
              "      background-color: #E2EBFA;\n",
              "      box-shadow: 0px 1px 2px rgba(60, 64, 67, 0.3), 0px 1px 3px 1px rgba(60, 64, 67, 0.15);\n",
              "      fill: #174EA6;\n",
              "    }\n",
              "\n",
              "    [theme=dark] .colab-df-convert {\n",
              "      background-color: #3B4455;\n",
              "      fill: #D2E3FC;\n",
              "    }\n",
              "\n",
              "    [theme=dark] .colab-df-convert:hover {\n",
              "      background-color: #434B5C;\n",
              "      box-shadow: 0px 1px 3px 1px rgba(0, 0, 0, 0.15);\n",
              "      filter: drop-shadow(0px 1px 2px rgba(0, 0, 0, 0.3));\n",
              "      fill: #FFFFFF;\n",
              "    }\n",
              "  </style>\n",
              "\n",
              "      <script>\n",
              "        const buttonEl =\n",
              "          document.querySelector('#df-4f3f34d9-47cf-4ff8-a0da-fc7246fa045a button.colab-df-convert');\n",
              "        buttonEl.style.display =\n",
              "          google.colab.kernel.accessAllowed ? 'block' : 'none';\n",
              "\n",
              "        async function convertToInteractive(key) {\n",
              "          const element = document.querySelector('#df-4f3f34d9-47cf-4ff8-a0da-fc7246fa045a');\n",
              "          const dataTable =\n",
              "            await google.colab.kernel.invokeFunction('convertToInteractive',\n",
              "                                                     [key], {});\n",
              "          if (!dataTable) return;\n",
              "\n",
              "          const docLinkHtml = 'Like what you see? Visit the ' +\n",
              "            '<a target=\"_blank\" href=https://colab.research.google.com/notebooks/data_table.ipynb>data table notebook</a>'\n",
              "            + ' to learn more about interactive tables.';\n",
              "          element.innerHTML = '';\n",
              "          dataTable['output_type'] = 'display_data';\n",
              "          await google.colab.output.renderOutput(dataTable, element);\n",
              "          const docLink = document.createElement('div');\n",
              "          docLink.innerHTML = docLinkHtml;\n",
              "          element.appendChild(docLink);\n",
              "        }\n",
              "      </script>\n",
              "    </div>\n",
              "  </div>\n",
              "  "
            ],
            "text/plain": [
              "            GameId          PlayId  Team  ...  Humidity  WindSpeed  WindDirection\n",
              "0       2017090700  20170907000118  away  ...      77.0        8.0             SW\n",
              "1       2017090700  20170907000118  away  ...      77.0        8.0             SW\n",
              "2       2017090700  20170907000118  away  ...      77.0        8.0             SW\n",
              "3       2017090700  20170907000118  away  ...      77.0        8.0             SW\n",
              "4       2017090700  20170907000118  away  ...      77.0        8.0             SW\n",
              "...            ...             ...   ...  ...       ...        ...            ...\n",
              "509757  2018123015  20181230154157  home  ...      76.0          5             SE\n",
              "509758  2018123015  20181230154157  home  ...      76.0          5             SE\n",
              "509759  2018123015  20181230154157  home  ...      76.0          5             SE\n",
              "509760  2018123015  20181230154157  home  ...      76.0          5             SE\n",
              "509761  2018123015  20181230154157  home  ...      76.0          5             SE\n",
              "\n",
              "[509762 rows x 49 columns]"
            ]
          },
          "metadata": {}
        }
      ]
    },
    {
      "cell_type": "markdown",
      "source": [
        "Part e)"
      ],
      "metadata": {
        "id": "ZE9thLdT7Nei"
      }
    },
    {
      "cell_type": "code",
      "source": [
        "data_raw.shape"
      ],
      "metadata": {
        "id": "XlcEfun47Mw5",
        "colab": {
          "base_uri": "https://localhost:8080/"
        },
        "outputId": "0e49461a-6001-4422-a257-73987901c92f"
      },
      "execution_count": null,
      "outputs": [
        {
          "output_type": "execute_result",
          "data": {
            "text/plain": [
              "(509762, 49)"
            ]
          },
          "metadata": {},
          "execution_count": 6
        }
      ]
    },
    {
      "cell_type": "markdown",
      "source": [
        "Part f)"
      ],
      "metadata": {
        "id": "W7Ex_rxT7VZn"
      }
    },
    {
      "cell_type": "code",
      "source": [
        "data_raw.columns"
      ],
      "metadata": {
        "id": "sgkCPLNf7YU6",
        "colab": {
          "base_uri": "https://localhost:8080/"
        },
        "outputId": "f9ef18a8-6194-44ac-b82f-1be486a2db4a"
      },
      "execution_count": null,
      "outputs": [
        {
          "output_type": "execute_result",
          "data": {
            "text/plain": [
              "Index(['GameId', 'PlayId', 'Team', 'X', 'Y', 'S', 'A', 'Dis', 'Orientation',\n",
              "       'Dir', 'NflId', 'DisplayName', 'JerseyNumber', 'Season', 'YardLine',\n",
              "       'Quarter', 'GameClock', 'PossessionTeam', 'Down', 'Distance',\n",
              "       'FieldPosition', 'HomeScoreBeforePlay', 'VisitorScoreBeforePlay',\n",
              "       'NflIdRusher', 'OffenseFormation', 'OffensePersonnel',\n",
              "       'DefendersInTheBox', 'DefensePersonnel', 'PlayDirection', 'TimeHandoff',\n",
              "       'TimeSnap', 'Yards', 'PlayerHeight', 'PlayerWeight', 'PlayerBirthDate',\n",
              "       'PlayerCollegeName', 'Position', 'HomeTeamAbbr', 'VisitorTeamAbbr',\n",
              "       'Week', 'Stadium', 'Location', 'StadiumType', 'Turf', 'GameWeather',\n",
              "       'Temperature', 'Humidity', 'WindSpeed', 'WindDirection'],\n",
              "      dtype='object')"
            ]
          },
          "metadata": {},
          "execution_count": 7
        }
      ]
    },
    {
      "cell_type": "markdown",
      "source": [
        "# Section 2"
      ],
      "metadata": {
        "id": "1eZlElyR7dB9"
      }
    },
    {
      "cell_type": "markdown",
      "source": [
        "Part a)"
      ],
      "metadata": {
        "id": "UOlcm2Ft7fKV"
      }
    },
    {
      "cell_type": "code",
      "source": [
        "data_raw['Yards']"
      ],
      "metadata": {
        "colab": {
          "base_uri": "https://localhost:8080/"
        },
        "id": "WsAipL-ANtSx",
        "outputId": "976d132e-cde4-4c0f-a3b6-a480b234883f"
      },
      "execution_count": null,
      "outputs": [
        {
          "output_type": "execute_result",
          "data": {
            "text/plain": [
              "0          8\n",
              "1          8\n",
              "2          8\n",
              "3          8\n",
              "4          8\n",
              "          ..\n",
              "509757    11\n",
              "509758    11\n",
              "509759    11\n",
              "509760    11\n",
              "509761    11\n",
              "Name: Yards, Length: 509762, dtype: int64"
            ]
          },
          "metadata": {},
          "execution_count": 8
        }
      ]
    },
    {
      "cell_type": "markdown",
      "source": [
        "Part b)"
      ],
      "metadata": {
        "id": "-Ca_mruGPZD1"
      }
    },
    {
      "cell_type": "code",
      "source": [
        "data_raw[data_raw['PlayId'] == 20181115001638]\n"
      ],
      "metadata": {
        "id": "H4V71Dtn7f8j",
        "colab": {
          "base_uri": "https://localhost:8080/",
          "height": 1000
        },
        "outputId": "bf79a455-5a63-4924-b98e-707e641922b1"
      },
      "execution_count": null,
      "outputs": [
        {
          "output_type": "execute_result",
          "data": {
            "text/html": [
              "\n",
              "  <div id=\"df-ad5942fa-5b58-479b-a8ab-a5303dab89a4\">\n",
              "    <div class=\"colab-df-container\">\n",
              "      <div>\n",
              "<style scoped>\n",
              "    .dataframe tbody tr th:only-of-type {\n",
              "        vertical-align: middle;\n",
              "    }\n",
              "\n",
              "    .dataframe tbody tr th {\n",
              "        vertical-align: top;\n",
              "    }\n",
              "\n",
              "    .dataframe thead th {\n",
              "        text-align: right;\n",
              "    }\n",
              "</style>\n",
              "<table border=\"1\" class=\"dataframe\">\n",
              "  <thead>\n",
              "    <tr style=\"text-align: right;\">\n",
              "      <th></th>\n",
              "      <th>GameId</th>\n",
              "      <th>PlayId</th>\n",
              "      <th>Team</th>\n",
              "      <th>X</th>\n",
              "      <th>Y</th>\n",
              "      <th>S</th>\n",
              "      <th>A</th>\n",
              "      <th>Dis</th>\n",
              "      <th>Orientation</th>\n",
              "      <th>Dir</th>\n",
              "      <th>NflId</th>\n",
              "      <th>DisplayName</th>\n",
              "      <th>JerseyNumber</th>\n",
              "      <th>Season</th>\n",
              "      <th>YardLine</th>\n",
              "      <th>Quarter</th>\n",
              "      <th>GameClock</th>\n",
              "      <th>PossessionTeam</th>\n",
              "      <th>Down</th>\n",
              "      <th>Distance</th>\n",
              "      <th>FieldPosition</th>\n",
              "      <th>HomeScoreBeforePlay</th>\n",
              "      <th>VisitorScoreBeforePlay</th>\n",
              "      <th>NflIdRusher</th>\n",
              "      <th>OffenseFormation</th>\n",
              "      <th>OffensePersonnel</th>\n",
              "      <th>DefendersInTheBox</th>\n",
              "      <th>DefensePersonnel</th>\n",
              "      <th>PlayDirection</th>\n",
              "      <th>TimeHandoff</th>\n",
              "      <th>TimeSnap</th>\n",
              "      <th>Yards</th>\n",
              "      <th>PlayerHeight</th>\n",
              "      <th>PlayerWeight</th>\n",
              "      <th>PlayerBirthDate</th>\n",
              "      <th>PlayerCollegeName</th>\n",
              "      <th>Position</th>\n",
              "      <th>HomeTeamAbbr</th>\n",
              "      <th>VisitorTeamAbbr</th>\n",
              "      <th>Week</th>\n",
              "      <th>Stadium</th>\n",
              "      <th>Location</th>\n",
              "      <th>StadiumType</th>\n",
              "      <th>Turf</th>\n",
              "      <th>GameWeather</th>\n",
              "      <th>Temperature</th>\n",
              "      <th>Humidity</th>\n",
              "      <th>WindSpeed</th>\n",
              "      <th>WindDirection</th>\n",
              "    </tr>\n",
              "  </thead>\n",
              "  <tbody>\n",
              "    <tr>\n",
              "      <th>404426</th>\n",
              "      <td>2018111500</td>\n",
              "      <td>20181115001638</td>\n",
              "      <td>away</td>\n",
              "      <td>88.30</td>\n",
              "      <td>30.41</td>\n",
              "      <td>3.76</td>\n",
              "      <td>3.01</td>\n",
              "      <td>0.39</td>\n",
              "      <td>265.47</td>\n",
              "      <td>233.93</td>\n",
              "      <td>496988</td>\n",
              "      <td>Bryan Bulaga</td>\n",
              "      <td>75</td>\n",
              "      <td>2018</td>\n",
              "      <td>21</td>\n",
              "      <td>2</td>\n",
              "      <td>06:45:00</td>\n",
              "      <td>GB</td>\n",
              "      <td>1</td>\n",
              "      <td>10</td>\n",
              "      <td>GB</td>\n",
              "      <td>10</td>\n",
              "      <td>14</td>\n",
              "      <td>2558116</td>\n",
              "      <td>SINGLEBACK</td>\n",
              "      <td>1 RB, 1 TE, 3 WR</td>\n",
              "      <td>6.0</td>\n",
              "      <td>4 DL, 2 LB, 5 DB</td>\n",
              "      <td>left</td>\n",
              "      <td>2018-11-16T02:26:09.000Z</td>\n",
              "      <td>2018-11-16T02:26:08.000Z</td>\n",
              "      <td>3</td>\n",
              "      <td>6-5</td>\n",
              "      <td>314</td>\n",
              "      <td>03/21/1989</td>\n",
              "      <td>Iowa</td>\n",
              "      <td>OT</td>\n",
              "      <td>SEA</td>\n",
              "      <td>GB</td>\n",
              "      <td>11</td>\n",
              "      <td>CenturyLink Field</td>\n",
              "      <td>Seattle, WA</td>\n",
              "      <td>Outdoor</td>\n",
              "      <td>FieldTurf</td>\n",
              "      <td>Partly Cloudy</td>\n",
              "      <td>54.0</td>\n",
              "      <td>69.0</td>\n",
              "      <td>6</td>\n",
              "      <td>South</td>\n",
              "    </tr>\n",
              "    <tr>\n",
              "      <th>404427</th>\n",
              "      <td>2018111500</td>\n",
              "      <td>20181115001638</td>\n",
              "      <td>away</td>\n",
              "      <td>90.99</td>\n",
              "      <td>26.82</td>\n",
              "      <td>3.63</td>\n",
              "      <td>0.96</td>\n",
              "      <td>0.35</td>\n",
              "      <td>315.67</td>\n",
              "      <td>339.90</td>\n",
              "      <td>497236</td>\n",
              "      <td>Jimmy Graham</td>\n",
              "      <td>80</td>\n",
              "      <td>2018</td>\n",
              "      <td>21</td>\n",
              "      <td>2</td>\n",
              "      <td>06:45:00</td>\n",
              "      <td>GB</td>\n",
              "      <td>1</td>\n",
              "      <td>10</td>\n",
              "      <td>GB</td>\n",
              "      <td>10</td>\n",
              "      <td>14</td>\n",
              "      <td>2558116</td>\n",
              "      <td>SINGLEBACK</td>\n",
              "      <td>1 RB, 1 TE, 3 WR</td>\n",
              "      <td>6.0</td>\n",
              "      <td>4 DL, 2 LB, 5 DB</td>\n",
              "      <td>left</td>\n",
              "      <td>2018-11-16T02:26:09.000Z</td>\n",
              "      <td>2018-11-16T02:26:08.000Z</td>\n",
              "      <td>3</td>\n",
              "      <td>6-7</td>\n",
              "      <td>265</td>\n",
              "      <td>11/24/1986</td>\n",
              "      <td>Miami</td>\n",
              "      <td>TE</td>\n",
              "      <td>SEA</td>\n",
              "      <td>GB</td>\n",
              "      <td>11</td>\n",
              "      <td>CenturyLink Field</td>\n",
              "      <td>Seattle, WA</td>\n",
              "      <td>Outdoor</td>\n",
              "      <td>FieldTurf</td>\n",
              "      <td>Partly Cloudy</td>\n",
              "      <td>54.0</td>\n",
              "      <td>69.0</td>\n",
              "      <td>6</td>\n",
              "      <td>South</td>\n",
              "    </tr>\n",
              "    <tr>\n",
              "      <th>404428</th>\n",
              "      <td>2018111500</td>\n",
              "      <td>20181115001638</td>\n",
              "      <td>away</td>\n",
              "      <td>93.24</td>\n",
              "      <td>28.22</td>\n",
              "      <td>5.06</td>\n",
              "      <td>0.79</td>\n",
              "      <td>0.50</td>\n",
              "      <td>175.16</td>\n",
              "      <td>118.46</td>\n",
              "      <td>2506363</td>\n",
              "      <td>Aaron Rodgers</td>\n",
              "      <td>12</td>\n",
              "      <td>2018</td>\n",
              "      <td>21</td>\n",
              "      <td>2</td>\n",
              "      <td>06:45:00</td>\n",
              "      <td>GB</td>\n",
              "      <td>1</td>\n",
              "      <td>10</td>\n",
              "      <td>GB</td>\n",
              "      <td>10</td>\n",
              "      <td>14</td>\n",
              "      <td>2558116</td>\n",
              "      <td>SINGLEBACK</td>\n",
              "      <td>1 RB, 1 TE, 3 WR</td>\n",
              "      <td>6.0</td>\n",
              "      <td>4 DL, 2 LB, 5 DB</td>\n",
              "      <td>left</td>\n",
              "      <td>2018-11-16T02:26:09.000Z</td>\n",
              "      <td>2018-11-16T02:26:08.000Z</td>\n",
              "      <td>3</td>\n",
              "      <td>6-2</td>\n",
              "      <td>225</td>\n",
              "      <td>12/02/1983</td>\n",
              "      <td>California</td>\n",
              "      <td>QB</td>\n",
              "      <td>SEA</td>\n",
              "      <td>GB</td>\n",
              "      <td>11</td>\n",
              "      <td>CenturyLink Field</td>\n",
              "      <td>Seattle, WA</td>\n",
              "      <td>Outdoor</td>\n",
              "      <td>FieldTurf</td>\n",
              "      <td>Partly Cloudy</td>\n",
              "      <td>54.0</td>\n",
              "      <td>69.0</td>\n",
              "      <td>6</td>\n",
              "      <td>South</td>\n",
              "    </tr>\n",
              "    <tr>\n",
              "      <th>404429</th>\n",
              "      <td>2018111500</td>\n",
              "      <td>20181115001638</td>\n",
              "      <td>away</td>\n",
              "      <td>89.15</td>\n",
              "      <td>28.82</td>\n",
              "      <td>2.15</td>\n",
              "      <td>1.57</td>\n",
              "      <td>0.19</td>\n",
              "      <td>197.42</td>\n",
              "      <td>207.64</td>\n",
              "      <td>2531030</td>\n",
              "      <td>Byron Bell</td>\n",
              "      <td>74</td>\n",
              "      <td>2018</td>\n",
              "      <td>21</td>\n",
              "      <td>2</td>\n",
              "      <td>06:45:00</td>\n",
              "      <td>GB</td>\n",
              "      <td>1</td>\n",
              "      <td>10</td>\n",
              "      <td>GB</td>\n",
              "      <td>10</td>\n",
              "      <td>14</td>\n",
              "      <td>2558116</td>\n",
              "      <td>SINGLEBACK</td>\n",
              "      <td>1 RB, 1 TE, 3 WR</td>\n",
              "      <td>6.0</td>\n",
              "      <td>4 DL, 2 LB, 5 DB</td>\n",
              "      <td>left</td>\n",
              "      <td>2018-11-16T02:26:09.000Z</td>\n",
              "      <td>2018-11-16T02:26:08.000Z</td>\n",
              "      <td>3</td>\n",
              "      <td>6-5</td>\n",
              "      <td>320</td>\n",
              "      <td>01/17/1989</td>\n",
              "      <td>New Mexico</td>\n",
              "      <td>T</td>\n",
              "      <td>SEA</td>\n",
              "      <td>GB</td>\n",
              "      <td>11</td>\n",
              "      <td>CenturyLink Field</td>\n",
              "      <td>Seattle, WA</td>\n",
              "      <td>Outdoor</td>\n",
              "      <td>FieldTurf</td>\n",
              "      <td>Partly Cloudy</td>\n",
              "      <td>54.0</td>\n",
              "      <td>69.0</td>\n",
              "      <td>6</td>\n",
              "      <td>South</td>\n",
              "    </tr>\n",
              "    <tr>\n",
              "      <th>404430</th>\n",
              "      <td>2018111500</td>\n",
              "      <td>20181115001638</td>\n",
              "      <td>away</td>\n",
              "      <td>90.09</td>\n",
              "      <td>24.84</td>\n",
              "      <td>0.83</td>\n",
              "      <td>0.83</td>\n",
              "      <td>0.07</td>\n",
              "      <td>247.78</td>\n",
              "      <td>192.83</td>\n",
              "      <td>2540183</td>\n",
              "      <td>David Bakhtiari</td>\n",
              "      <td>69</td>\n",
              "      <td>2018</td>\n",
              "      <td>21</td>\n",
              "      <td>2</td>\n",
              "      <td>06:45:00</td>\n",
              "      <td>GB</td>\n",
              "      <td>1</td>\n",
              "      <td>10</td>\n",
              "      <td>GB</td>\n",
              "      <td>10</td>\n",
              "      <td>14</td>\n",
              "      <td>2558116</td>\n",
              "      <td>SINGLEBACK</td>\n",
              "      <td>1 RB, 1 TE, 3 WR</td>\n",
              "      <td>6.0</td>\n",
              "      <td>4 DL, 2 LB, 5 DB</td>\n",
              "      <td>left</td>\n",
              "      <td>2018-11-16T02:26:09.000Z</td>\n",
              "      <td>2018-11-16T02:26:08.000Z</td>\n",
              "      <td>3</td>\n",
              "      <td>6-4</td>\n",
              "      <td>310</td>\n",
              "      <td>09/30/1991</td>\n",
              "      <td>Colorado</td>\n",
              "      <td>T</td>\n",
              "      <td>SEA</td>\n",
              "      <td>GB</td>\n",
              "      <td>11</td>\n",
              "      <td>CenturyLink Field</td>\n",
              "      <td>Seattle, WA</td>\n",
              "      <td>Outdoor</td>\n",
              "      <td>FieldTurf</td>\n",
              "      <td>Partly Cloudy</td>\n",
              "      <td>54.0</td>\n",
              "      <td>69.0</td>\n",
              "      <td>6</td>\n",
              "      <td>South</td>\n",
              "    </tr>\n",
              "    <tr>\n",
              "      <th>404431</th>\n",
              "      <td>2018111500</td>\n",
              "      <td>20181115001638</td>\n",
              "      <td>away</td>\n",
              "      <td>89.83</td>\n",
              "      <td>27.85</td>\n",
              "      <td>0.36</td>\n",
              "      <td>0.49</td>\n",
              "      <td>0.04</td>\n",
              "      <td>319.86</td>\n",
              "      <td>341.48</td>\n",
              "      <td>2541898</td>\n",
              "      <td>Lane Taylor</td>\n",
              "      <td>65</td>\n",
              "      <td>2018</td>\n",
              "      <td>21</td>\n",
              "      <td>2</td>\n",
              "      <td>06:45:00</td>\n",
              "      <td>GB</td>\n",
              "      <td>1</td>\n",
              "      <td>10</td>\n",
              "      <td>GB</td>\n",
              "      <td>10</td>\n",
              "      <td>14</td>\n",
              "      <td>2558116</td>\n",
              "      <td>SINGLEBACK</td>\n",
              "      <td>1 RB, 1 TE, 3 WR</td>\n",
              "      <td>6.0</td>\n",
              "      <td>4 DL, 2 LB, 5 DB</td>\n",
              "      <td>left</td>\n",
              "      <td>2018-11-16T02:26:09.000Z</td>\n",
              "      <td>2018-11-16T02:26:08.000Z</td>\n",
              "      <td>3</td>\n",
              "      <td>6-3</td>\n",
              "      <td>324</td>\n",
              "      <td>11/22/1989</td>\n",
              "      <td>Oklahoma State</td>\n",
              "      <td>G</td>\n",
              "      <td>SEA</td>\n",
              "      <td>GB</td>\n",
              "      <td>11</td>\n",
              "      <td>CenturyLink Field</td>\n",
              "      <td>Seattle, WA</td>\n",
              "      <td>Outdoor</td>\n",
              "      <td>FieldTurf</td>\n",
              "      <td>Partly Cloudy</td>\n",
              "      <td>54.0</td>\n",
              "      <td>69.0</td>\n",
              "      <td>6</td>\n",
              "      <td>South</td>\n",
              "    </tr>\n",
              "    <tr>\n",
              "      <th>404432</th>\n",
              "      <td>2018111500</td>\n",
              "      <td>20181115001638</td>\n",
              "      <td>away</td>\n",
              "      <td>88.91</td>\n",
              "      <td>36.08</td>\n",
              "      <td>4.30</td>\n",
              "      <td>3.37</td>\n",
              "      <td>0.41</td>\n",
              "      <td>268.52</td>\n",
              "      <td>247.79</td>\n",
              "      <td>2543495</td>\n",
              "      <td>Davante Adams</td>\n",
              "      <td>17</td>\n",
              "      <td>2018</td>\n",
              "      <td>21</td>\n",
              "      <td>2</td>\n",
              "      <td>06:45:00</td>\n",
              "      <td>GB</td>\n",
              "      <td>1</td>\n",
              "      <td>10</td>\n",
              "      <td>GB</td>\n",
              "      <td>10</td>\n",
              "      <td>14</td>\n",
              "      <td>2558116</td>\n",
              "      <td>SINGLEBACK</td>\n",
              "      <td>1 RB, 1 TE, 3 WR</td>\n",
              "      <td>6.0</td>\n",
              "      <td>4 DL, 2 LB, 5 DB</td>\n",
              "      <td>left</td>\n",
              "      <td>2018-11-16T02:26:09.000Z</td>\n",
              "      <td>2018-11-16T02:26:08.000Z</td>\n",
              "      <td>3</td>\n",
              "      <td>6-1</td>\n",
              "      <td>215</td>\n",
              "      <td>12/24/1992</td>\n",
              "      <td>Fresno State</td>\n",
              "      <td>WR</td>\n",
              "      <td>SEA</td>\n",
              "      <td>GB</td>\n",
              "      <td>11</td>\n",
              "      <td>CenturyLink Field</td>\n",
              "      <td>Seattle, WA</td>\n",
              "      <td>Outdoor</td>\n",
              "      <td>FieldTurf</td>\n",
              "      <td>Partly Cloudy</td>\n",
              "      <td>54.0</td>\n",
              "      <td>69.0</td>\n",
              "      <td>6</td>\n",
              "      <td>South</td>\n",
              "    </tr>\n",
              "    <tr>\n",
              "      <th>404433</th>\n",
              "      <td>2018111500</td>\n",
              "      <td>20181115001638</td>\n",
              "      <td>away</td>\n",
              "      <td>88.36</td>\n",
              "      <td>27.93</td>\n",
              "      <td>2.50</td>\n",
              "      <td>1.41</td>\n",
              "      <td>0.27</td>\n",
              "      <td>157.72</td>\n",
              "      <td>210.53</td>\n",
              "      <td>2543631</td>\n",
              "      <td>Corey Linsley</td>\n",
              "      <td>63</td>\n",
              "      <td>2018</td>\n",
              "      <td>21</td>\n",
              "      <td>2</td>\n",
              "      <td>06:45:00</td>\n",
              "      <td>GB</td>\n",
              "      <td>1</td>\n",
              "      <td>10</td>\n",
              "      <td>GB</td>\n",
              "      <td>10</td>\n",
              "      <td>14</td>\n",
              "      <td>2558116</td>\n",
              "      <td>SINGLEBACK</td>\n",
              "      <td>1 RB, 1 TE, 3 WR</td>\n",
              "      <td>6.0</td>\n",
              "      <td>4 DL, 2 LB, 5 DB</td>\n",
              "      <td>left</td>\n",
              "      <td>2018-11-16T02:26:09.000Z</td>\n",
              "      <td>2018-11-16T02:26:08.000Z</td>\n",
              "      <td>3</td>\n",
              "      <td>6-3</td>\n",
              "      <td>301</td>\n",
              "      <td>07/27/1991</td>\n",
              "      <td>Ohio State</td>\n",
              "      <td>C</td>\n",
              "      <td>SEA</td>\n",
              "      <td>GB</td>\n",
              "      <td>11</td>\n",
              "      <td>CenturyLink Field</td>\n",
              "      <td>Seattle, WA</td>\n",
              "      <td>Outdoor</td>\n",
              "      <td>FieldTurf</td>\n",
              "      <td>Partly Cloudy</td>\n",
              "      <td>54.0</td>\n",
              "      <td>69.0</td>\n",
              "      <td>6</td>\n",
              "      <td>South</td>\n",
              "    </tr>\n",
              "    <tr>\n",
              "      <th>404434</th>\n",
              "      <td>2018111500</td>\n",
              "      <td>20181115001638</td>\n",
              "      <td>away</td>\n",
              "      <td>94.68</td>\n",
              "      <td>27.45</td>\n",
              "      <td>4.94</td>\n",
              "      <td>3.72</td>\n",
              "      <td>0.48</td>\n",
              "      <td>226.71</td>\n",
              "      <td>232.04</td>\n",
              "      <td>2558116</td>\n",
              "      <td>Aaron Jones</td>\n",
              "      <td>33</td>\n",
              "      <td>2018</td>\n",
              "      <td>21</td>\n",
              "      <td>2</td>\n",
              "      <td>06:45:00</td>\n",
              "      <td>GB</td>\n",
              "      <td>1</td>\n",
              "      <td>10</td>\n",
              "      <td>GB</td>\n",
              "      <td>10</td>\n",
              "      <td>14</td>\n",
              "      <td>2558116</td>\n",
              "      <td>SINGLEBACK</td>\n",
              "      <td>1 RB, 1 TE, 3 WR</td>\n",
              "      <td>6.0</td>\n",
              "      <td>4 DL, 2 LB, 5 DB</td>\n",
              "      <td>left</td>\n",
              "      <td>2018-11-16T02:26:09.000Z</td>\n",
              "      <td>2018-11-16T02:26:08.000Z</td>\n",
              "      <td>3</td>\n",
              "      <td>5-9</td>\n",
              "      <td>208</td>\n",
              "      <td>12/02/1994</td>\n",
              "      <td>Texas-El Paso</td>\n",
              "      <td>RB</td>\n",
              "      <td>SEA</td>\n",
              "      <td>GB</td>\n",
              "      <td>11</td>\n",
              "      <td>CenturyLink Field</td>\n",
              "      <td>Seattle, WA</td>\n",
              "      <td>Outdoor</td>\n",
              "      <td>FieldTurf</td>\n",
              "      <td>Partly Cloudy</td>\n",
              "      <td>54.0</td>\n",
              "      <td>69.0</td>\n",
              "      <td>6</td>\n",
              "      <td>South</td>\n",
              "    </tr>\n",
              "    <tr>\n",
              "      <th>404435</th>\n",
              "      <td>2018111500</td>\n",
              "      <td>20181115001638</td>\n",
              "      <td>away</td>\n",
              "      <td>89.06</td>\n",
              "      <td>41.96</td>\n",
              "      <td>3.75</td>\n",
              "      <td>2.54</td>\n",
              "      <td>0.37</td>\n",
              "      <td>258.48</td>\n",
              "      <td>287.47</td>\n",
              "      <td>2560883</td>\n",
              "      <td>Equanimeous St. Brown</td>\n",
              "      <td>19</td>\n",
              "      <td>2018</td>\n",
              "      <td>21</td>\n",
              "      <td>2</td>\n",
              "      <td>06:45:00</td>\n",
              "      <td>GB</td>\n",
              "      <td>1</td>\n",
              "      <td>10</td>\n",
              "      <td>GB</td>\n",
              "      <td>10</td>\n",
              "      <td>14</td>\n",
              "      <td>2558116</td>\n",
              "      <td>SINGLEBACK</td>\n",
              "      <td>1 RB, 1 TE, 3 WR</td>\n",
              "      <td>6.0</td>\n",
              "      <td>4 DL, 2 LB, 5 DB</td>\n",
              "      <td>left</td>\n",
              "      <td>2018-11-16T02:26:09.000Z</td>\n",
              "      <td>2018-11-16T02:26:08.000Z</td>\n",
              "      <td>3</td>\n",
              "      <td>6-5</td>\n",
              "      <td>214</td>\n",
              "      <td>09/30/1996</td>\n",
              "      <td>Notre Dame</td>\n",
              "      <td>WR</td>\n",
              "      <td>SEA</td>\n",
              "      <td>GB</td>\n",
              "      <td>11</td>\n",
              "      <td>CenturyLink Field</td>\n",
              "      <td>Seattle, WA</td>\n",
              "      <td>Outdoor</td>\n",
              "      <td>FieldTurf</td>\n",
              "      <td>Partly Cloudy</td>\n",
              "      <td>54.0</td>\n",
              "      <td>69.0</td>\n",
              "      <td>6</td>\n",
              "      <td>South</td>\n",
              "    </tr>\n",
              "    <tr>\n",
              "      <th>404436</th>\n",
              "      <td>2018111500</td>\n",
              "      <td>20181115001638</td>\n",
              "      <td>away</td>\n",
              "      <td>87.90</td>\n",
              "      <td>21.75</td>\n",
              "      <td>2.97</td>\n",
              "      <td>2.58</td>\n",
              "      <td>0.31</td>\n",
              "      <td>245.08</td>\n",
              "      <td>247.96</td>\n",
              "      <td>2560907</td>\n",
              "      <td>Marquez Valdes-Scantling</td>\n",
              "      <td>83</td>\n",
              "      <td>2018</td>\n",
              "      <td>21</td>\n",
              "      <td>2</td>\n",
              "      <td>06:45:00</td>\n",
              "      <td>GB</td>\n",
              "      <td>1</td>\n",
              "      <td>10</td>\n",
              "      <td>GB</td>\n",
              "      <td>10</td>\n",
              "      <td>14</td>\n",
              "      <td>2558116</td>\n",
              "      <td>SINGLEBACK</td>\n",
              "      <td>1 RB, 1 TE, 3 WR</td>\n",
              "      <td>6.0</td>\n",
              "      <td>4 DL, 2 LB, 5 DB</td>\n",
              "      <td>left</td>\n",
              "      <td>2018-11-16T02:26:09.000Z</td>\n",
              "      <td>2018-11-16T02:26:08.000Z</td>\n",
              "      <td>3</td>\n",
              "      <td>6-4</td>\n",
              "      <td>207</td>\n",
              "      <td>10/10/1994</td>\n",
              "      <td>South Florida</td>\n",
              "      <td>WR</td>\n",
              "      <td>SEA</td>\n",
              "      <td>GB</td>\n",
              "      <td>11</td>\n",
              "      <td>CenturyLink Field</td>\n",
              "      <td>Seattle, WA</td>\n",
              "      <td>Outdoor</td>\n",
              "      <td>FieldTurf</td>\n",
              "      <td>Partly Cloudy</td>\n",
              "      <td>54.0</td>\n",
              "      <td>69.0</td>\n",
              "      <td>6</td>\n",
              "      <td>South</td>\n",
              "    </tr>\n",
              "    <tr>\n",
              "      <th>404437</th>\n",
              "      <td>2018111500</td>\n",
              "      <td>20181115001638</td>\n",
              "      <td>home</td>\n",
              "      <td>85.85</td>\n",
              "      <td>26.94</td>\n",
              "      <td>2.01</td>\n",
              "      <td>0.46</td>\n",
              "      <td>0.20</td>\n",
              "      <td>85.82</td>\n",
              "      <td>149.08</td>\n",
              "      <td>2532966</td>\n",
              "      <td>Bobby Wagner</td>\n",
              "      <td>54</td>\n",
              "      <td>2018</td>\n",
              "      <td>21</td>\n",
              "      <td>2</td>\n",
              "      <td>06:45:00</td>\n",
              "      <td>GB</td>\n",
              "      <td>1</td>\n",
              "      <td>10</td>\n",
              "      <td>GB</td>\n",
              "      <td>10</td>\n",
              "      <td>14</td>\n",
              "      <td>2558116</td>\n",
              "      <td>SINGLEBACK</td>\n",
              "      <td>1 RB, 1 TE, 3 WR</td>\n",
              "      <td>6.0</td>\n",
              "      <td>4 DL, 2 LB, 5 DB</td>\n",
              "      <td>left</td>\n",
              "      <td>2018-11-16T02:26:09.000Z</td>\n",
              "      <td>2018-11-16T02:26:08.000Z</td>\n",
              "      <td>3</td>\n",
              "      <td>6-0</td>\n",
              "      <td>242</td>\n",
              "      <td>06/27/1990</td>\n",
              "      <td>Utah State</td>\n",
              "      <td>MLB</td>\n",
              "      <td>SEA</td>\n",
              "      <td>GB</td>\n",
              "      <td>11</td>\n",
              "      <td>CenturyLink Field</td>\n",
              "      <td>Seattle, WA</td>\n",
              "      <td>Outdoor</td>\n",
              "      <td>FieldTurf</td>\n",
              "      <td>Partly Cloudy</td>\n",
              "      <td>54.0</td>\n",
              "      <td>69.0</td>\n",
              "      <td>6</td>\n",
              "      <td>South</td>\n",
              "    </tr>\n",
              "    <tr>\n",
              "      <th>404438</th>\n",
              "      <td>2018111500</td>\n",
              "      <td>20181115001638</td>\n",
              "      <td>home</td>\n",
              "      <td>83.47</td>\n",
              "      <td>37.50</td>\n",
              "      <td>2.15</td>\n",
              "      <td>2.24</td>\n",
              "      <td>0.20</td>\n",
              "      <td>141.63</td>\n",
              "      <td>222.49</td>\n",
              "      <td>2539243</td>\n",
              "      <td>Bradley McDougald</td>\n",
              "      <td>30</td>\n",
              "      <td>2018</td>\n",
              "      <td>21</td>\n",
              "      <td>2</td>\n",
              "      <td>06:45:00</td>\n",
              "      <td>GB</td>\n",
              "      <td>1</td>\n",
              "      <td>10</td>\n",
              "      <td>GB</td>\n",
              "      <td>10</td>\n",
              "      <td>14</td>\n",
              "      <td>2558116</td>\n",
              "      <td>SINGLEBACK</td>\n",
              "      <td>1 RB, 1 TE, 3 WR</td>\n",
              "      <td>6.0</td>\n",
              "      <td>4 DL, 2 LB, 5 DB</td>\n",
              "      <td>left</td>\n",
              "      <td>2018-11-16T02:26:09.000Z</td>\n",
              "      <td>2018-11-16T02:26:08.000Z</td>\n",
              "      <td>3</td>\n",
              "      <td>6-1</td>\n",
              "      <td>215</td>\n",
              "      <td>11/15/1990</td>\n",
              "      <td>Kansas</td>\n",
              "      <td>SS</td>\n",
              "      <td>SEA</td>\n",
              "      <td>GB</td>\n",
              "      <td>11</td>\n",
              "      <td>CenturyLink Field</td>\n",
              "      <td>Seattle, WA</td>\n",
              "      <td>Outdoor</td>\n",
              "      <td>FieldTurf</td>\n",
              "      <td>Partly Cloudy</td>\n",
              "      <td>54.0</td>\n",
              "      <td>69.0</td>\n",
              "      <td>6</td>\n",
              "      <td>South</td>\n",
              "    </tr>\n",
              "    <tr>\n",
              "      <th>404439</th>\n",
              "      <td>2018111500</td>\n",
              "      <td>20181115001638</td>\n",
              "      <td>home</td>\n",
              "      <td>88.20</td>\n",
              "      <td>27.20</td>\n",
              "      <td>3.30</td>\n",
              "      <td>0.90</td>\n",
              "      <td>0.33</td>\n",
              "      <td>114.89</td>\n",
              "      <td>178.27</td>\n",
              "      <td>2543706</td>\n",
              "      <td>Shamar Stephen</td>\n",
              "      <td>98</td>\n",
              "      <td>2018</td>\n",
              "      <td>21</td>\n",
              "      <td>2</td>\n",
              "      <td>06:45:00</td>\n",
              "      <td>GB</td>\n",
              "      <td>1</td>\n",
              "      <td>10</td>\n",
              "      <td>GB</td>\n",
              "      <td>10</td>\n",
              "      <td>14</td>\n",
              "      <td>2558116</td>\n",
              "      <td>SINGLEBACK</td>\n",
              "      <td>1 RB, 1 TE, 3 WR</td>\n",
              "      <td>6.0</td>\n",
              "      <td>4 DL, 2 LB, 5 DB</td>\n",
              "      <td>left</td>\n",
              "      <td>2018-11-16T02:26:09.000Z</td>\n",
              "      <td>2018-11-16T02:26:08.000Z</td>\n",
              "      <td>3</td>\n",
              "      <td>6-5</td>\n",
              "      <td>310</td>\n",
              "      <td>02/25/1991</td>\n",
              "      <td>Connecticut</td>\n",
              "      <td>NT</td>\n",
              "      <td>SEA</td>\n",
              "      <td>GB</td>\n",
              "      <td>11</td>\n",
              "      <td>CenturyLink Field</td>\n",
              "      <td>Seattle, WA</td>\n",
              "      <td>Outdoor</td>\n",
              "      <td>FieldTurf</td>\n",
              "      <td>Partly Cloudy</td>\n",
              "      <td>54.0</td>\n",
              "      <td>69.0</td>\n",
              "      <td>6</td>\n",
              "      <td>South</td>\n",
              "    </tr>\n",
              "    <tr>\n",
              "      <th>404440</th>\n",
              "      <td>2018111500</td>\n",
              "      <td>20181115001638</td>\n",
              "      <td>home</td>\n",
              "      <td>89.26</td>\n",
              "      <td>31.89</td>\n",
              "      <td>3.64</td>\n",
              "      <td>2.48</td>\n",
              "      <td>0.44</td>\n",
              "      <td>163.58</td>\n",
              "      <td>175.91</td>\n",
              "      <td>2552629</td>\n",
              "      <td>Frank Clark</td>\n",
              "      <td>55</td>\n",
              "      <td>2018</td>\n",
              "      <td>21</td>\n",
              "      <td>2</td>\n",
              "      <td>06:45:00</td>\n",
              "      <td>GB</td>\n",
              "      <td>1</td>\n",
              "      <td>10</td>\n",
              "      <td>GB</td>\n",
              "      <td>10</td>\n",
              "      <td>14</td>\n",
              "      <td>2558116</td>\n",
              "      <td>SINGLEBACK</td>\n",
              "      <td>1 RB, 1 TE, 3 WR</td>\n",
              "      <td>6.0</td>\n",
              "      <td>4 DL, 2 LB, 5 DB</td>\n",
              "      <td>left</td>\n",
              "      <td>2018-11-16T02:26:09.000Z</td>\n",
              "      <td>2018-11-16T02:26:08.000Z</td>\n",
              "      <td>3</td>\n",
              "      <td>6-3</td>\n",
              "      <td>260</td>\n",
              "      <td>06/14/1993</td>\n",
              "      <td>Michigan</td>\n",
              "      <td>DE</td>\n",
              "      <td>SEA</td>\n",
              "      <td>GB</td>\n",
              "      <td>11</td>\n",
              "      <td>CenturyLink Field</td>\n",
              "      <td>Seattle, WA</td>\n",
              "      <td>Outdoor</td>\n",
              "      <td>FieldTurf</td>\n",
              "      <td>Partly Cloudy</td>\n",
              "      <td>54.0</td>\n",
              "      <td>69.0</td>\n",
              "      <td>6</td>\n",
              "      <td>South</td>\n",
              "    </tr>\n",
              "    <tr>\n",
              "      <th>404441</th>\n",
              "      <td>2018111500</td>\n",
              "      <td>20181115001638</td>\n",
              "      <td>home</td>\n",
              "      <td>86.20</td>\n",
              "      <td>21.61</td>\n",
              "      <td>1.90</td>\n",
              "      <td>1.14</td>\n",
              "      <td>0.18</td>\n",
              "      <td>63.74</td>\n",
              "      <td>156.80</td>\n",
              "      <td>2553637</td>\n",
              "      <td>Justin Coleman</td>\n",
              "      <td>28</td>\n",
              "      <td>2018</td>\n",
              "      <td>21</td>\n",
              "      <td>2</td>\n",
              "      <td>06:45:00</td>\n",
              "      <td>GB</td>\n",
              "      <td>1</td>\n",
              "      <td>10</td>\n",
              "      <td>GB</td>\n",
              "      <td>10</td>\n",
              "      <td>14</td>\n",
              "      <td>2558116</td>\n",
              "      <td>SINGLEBACK</td>\n",
              "      <td>1 RB, 1 TE, 3 WR</td>\n",
              "      <td>6.0</td>\n",
              "      <td>4 DL, 2 LB, 5 DB</td>\n",
              "      <td>left</td>\n",
              "      <td>2018-11-16T02:26:09.000Z</td>\n",
              "      <td>2018-11-16T02:26:08.000Z</td>\n",
              "      <td>3</td>\n",
              "      <td>5-11</td>\n",
              "      <td>190</td>\n",
              "      <td>03/27/1993</td>\n",
              "      <td>Tennessee</td>\n",
              "      <td>CB</td>\n",
              "      <td>SEA</td>\n",
              "      <td>GB</td>\n",
              "      <td>11</td>\n",
              "      <td>CenturyLink Field</td>\n",
              "      <td>Seattle, WA</td>\n",
              "      <td>Outdoor</td>\n",
              "      <td>FieldTurf</td>\n",
              "      <td>Partly Cloudy</td>\n",
              "      <td>54.0</td>\n",
              "      <td>69.0</td>\n",
              "      <td>6</td>\n",
              "      <td>South</td>\n",
              "    </tr>\n",
              "    <tr>\n",
              "      <th>404442</th>\n",
              "      <td>2018111500</td>\n",
              "      <td>20181115001638</td>\n",
              "      <td>home</td>\n",
              "      <td>89.28</td>\n",
              "      <td>28.08</td>\n",
              "      <td>0.60</td>\n",
              "      <td>0.98</td>\n",
              "      <td>0.05</td>\n",
              "      <td>325.20</td>\n",
              "      <td>67.28</td>\n",
              "      <td>2555238</td>\n",
              "      <td>Jarran Reed</td>\n",
              "      <td>90</td>\n",
              "      <td>2018</td>\n",
              "      <td>21</td>\n",
              "      <td>2</td>\n",
              "      <td>06:45:00</td>\n",
              "      <td>GB</td>\n",
              "      <td>1</td>\n",
              "      <td>10</td>\n",
              "      <td>GB</td>\n",
              "      <td>10</td>\n",
              "      <td>14</td>\n",
              "      <td>2558116</td>\n",
              "      <td>SINGLEBACK</td>\n",
              "      <td>1 RB, 1 TE, 3 WR</td>\n",
              "      <td>6.0</td>\n",
              "      <td>4 DL, 2 LB, 5 DB</td>\n",
              "      <td>left</td>\n",
              "      <td>2018-11-16T02:26:09.000Z</td>\n",
              "      <td>2018-11-16T02:26:08.000Z</td>\n",
              "      <td>3</td>\n",
              "      <td>6-3</td>\n",
              "      <td>306</td>\n",
              "      <td>12/16/1992</td>\n",
              "      <td>Alabama</td>\n",
              "      <td>DT</td>\n",
              "      <td>SEA</td>\n",
              "      <td>GB</td>\n",
              "      <td>11</td>\n",
              "      <td>CenturyLink Field</td>\n",
              "      <td>Seattle, WA</td>\n",
              "      <td>Outdoor</td>\n",
              "      <td>FieldTurf</td>\n",
              "      <td>Partly Cloudy</td>\n",
              "      <td>54.0</td>\n",
              "      <td>69.0</td>\n",
              "      <td>6</td>\n",
              "      <td>South</td>\n",
              "    </tr>\n",
              "    <tr>\n",
              "      <th>404443</th>\n",
              "      <td>2018111500</td>\n",
              "      <td>20181115001638</td>\n",
              "      <td>home</td>\n",
              "      <td>74.50</td>\n",
              "      <td>28.08</td>\n",
              "      <td>0.97</td>\n",
              "      <td>5.60</td>\n",
              "      <td>0.07</td>\n",
              "      <td>68.92</td>\n",
              "      <td>279.19</td>\n",
              "      <td>2557881</td>\n",
              "      <td>Tedric Thompson</td>\n",
              "      <td>33</td>\n",
              "      <td>2018</td>\n",
              "      <td>21</td>\n",
              "      <td>2</td>\n",
              "      <td>06:45:00</td>\n",
              "      <td>GB</td>\n",
              "      <td>1</td>\n",
              "      <td>10</td>\n",
              "      <td>GB</td>\n",
              "      <td>10</td>\n",
              "      <td>14</td>\n",
              "      <td>2558116</td>\n",
              "      <td>SINGLEBACK</td>\n",
              "      <td>1 RB, 1 TE, 3 WR</td>\n",
              "      <td>6.0</td>\n",
              "      <td>4 DL, 2 LB, 5 DB</td>\n",
              "      <td>left</td>\n",
              "      <td>2018-11-16T02:26:09.000Z</td>\n",
              "      <td>2018-11-16T02:26:08.000Z</td>\n",
              "      <td>3</td>\n",
              "      <td>6-0</td>\n",
              "      <td>204</td>\n",
              "      <td>01/20/1995</td>\n",
              "      <td>Colorado</td>\n",
              "      <td>FS</td>\n",
              "      <td>SEA</td>\n",
              "      <td>GB</td>\n",
              "      <td>11</td>\n",
              "      <td>CenturyLink Field</td>\n",
              "      <td>Seattle, WA</td>\n",
              "      <td>Outdoor</td>\n",
              "      <td>FieldTurf</td>\n",
              "      <td>Partly Cloudy</td>\n",
              "      <td>54.0</td>\n",
              "      <td>69.0</td>\n",
              "      <td>6</td>\n",
              "      <td>South</td>\n",
              "    </tr>\n",
              "    <tr>\n",
              "      <th>404444</th>\n",
              "      <td>2018111500</td>\n",
              "      <td>20181115001638</td>\n",
              "      <td>home</td>\n",
              "      <td>85.15</td>\n",
              "      <td>42.80</td>\n",
              "      <td>4.23</td>\n",
              "      <td>1.02</td>\n",
              "      <td>0.41</td>\n",
              "      <td>205.67</td>\n",
              "      <td>275.14</td>\n",
              "      <td>2558259</td>\n",
              "      <td>Shaquill Griffin</td>\n",
              "      <td>26</td>\n",
              "      <td>2018</td>\n",
              "      <td>21</td>\n",
              "      <td>2</td>\n",
              "      <td>06:45:00</td>\n",
              "      <td>GB</td>\n",
              "      <td>1</td>\n",
              "      <td>10</td>\n",
              "      <td>GB</td>\n",
              "      <td>10</td>\n",
              "      <td>14</td>\n",
              "      <td>2558116</td>\n",
              "      <td>SINGLEBACK</td>\n",
              "      <td>1 RB, 1 TE, 3 WR</td>\n",
              "      <td>6.0</td>\n",
              "      <td>4 DL, 2 LB, 5 DB</td>\n",
              "      <td>left</td>\n",
              "      <td>2018-11-16T02:26:09.000Z</td>\n",
              "      <td>2018-11-16T02:26:08.000Z</td>\n",
              "      <td>3</td>\n",
              "      <td>6-0</td>\n",
              "      <td>198</td>\n",
              "      <td>07/20/1995</td>\n",
              "      <td>Central Florida</td>\n",
              "      <td>CB</td>\n",
              "      <td>SEA</td>\n",
              "      <td>GB</td>\n",
              "      <td>11</td>\n",
              "      <td>CenturyLink Field</td>\n",
              "      <td>Seattle, WA</td>\n",
              "      <td>Outdoor</td>\n",
              "      <td>FieldTurf</td>\n",
              "      <td>Partly Cloudy</td>\n",
              "      <td>54.0</td>\n",
              "      <td>69.0</td>\n",
              "      <td>6</td>\n",
              "      <td>South</td>\n",
              "    </tr>\n",
              "    <tr>\n",
              "      <th>404445</th>\n",
              "      <td>2018111500</td>\n",
              "      <td>20181115001638</td>\n",
              "      <td>home</td>\n",
              "      <td>85.21</td>\n",
              "      <td>30.85</td>\n",
              "      <td>1.94</td>\n",
              "      <td>0.69</td>\n",
              "      <td>0.19</td>\n",
              "      <td>126.57</td>\n",
              "      <td>129.85</td>\n",
              "      <td>2558925</td>\n",
              "      <td>Austin Calitro</td>\n",
              "      <td>58</td>\n",
              "      <td>2018</td>\n",
              "      <td>21</td>\n",
              "      <td>2</td>\n",
              "      <td>06:45:00</td>\n",
              "      <td>GB</td>\n",
              "      <td>1</td>\n",
              "      <td>10</td>\n",
              "      <td>GB</td>\n",
              "      <td>10</td>\n",
              "      <td>14</td>\n",
              "      <td>2558116</td>\n",
              "      <td>SINGLEBACK</td>\n",
              "      <td>1 RB, 1 TE, 3 WR</td>\n",
              "      <td>6.0</td>\n",
              "      <td>4 DL, 2 LB, 5 DB</td>\n",
              "      <td>left</td>\n",
              "      <td>2018-11-16T02:26:09.000Z</td>\n",
              "      <td>2018-11-16T02:26:08.000Z</td>\n",
              "      <td>3</td>\n",
              "      <td>6-0</td>\n",
              "      <td>240</td>\n",
              "      <td>01/10/1994</td>\n",
              "      <td>Villanova</td>\n",
              "      <td>LB</td>\n",
              "      <td>SEA</td>\n",
              "      <td>GB</td>\n",
              "      <td>11</td>\n",
              "      <td>CenturyLink Field</td>\n",
              "      <td>Seattle, WA</td>\n",
              "      <td>Outdoor</td>\n",
              "      <td>FieldTurf</td>\n",
              "      <td>Partly Cloudy</td>\n",
              "      <td>54.0</td>\n",
              "      <td>69.0</td>\n",
              "      <td>6</td>\n",
              "      <td>South</td>\n",
              "    </tr>\n",
              "    <tr>\n",
              "      <th>404446</th>\n",
              "      <td>2018111500</td>\n",
              "      <td>20181115001638</td>\n",
              "      <td>home</td>\n",
              "      <td>79.88</td>\n",
              "      <td>17.80</td>\n",
              "      <td>2.97</td>\n",
              "      <td>1.33</td>\n",
              "      <td>0.28</td>\n",
              "      <td>38.24</td>\n",
              "      <td>252.21</td>\n",
              "      <td>2560728</td>\n",
              "      <td>Tre Flowers</td>\n",
              "      <td>37</td>\n",
              "      <td>2018</td>\n",
              "      <td>21</td>\n",
              "      <td>2</td>\n",
              "      <td>06:45:00</td>\n",
              "      <td>GB</td>\n",
              "      <td>1</td>\n",
              "      <td>10</td>\n",
              "      <td>GB</td>\n",
              "      <td>10</td>\n",
              "      <td>14</td>\n",
              "      <td>2558116</td>\n",
              "      <td>SINGLEBACK</td>\n",
              "      <td>1 RB, 1 TE, 3 WR</td>\n",
              "      <td>6.0</td>\n",
              "      <td>4 DL, 2 LB, 5 DB</td>\n",
              "      <td>left</td>\n",
              "      <td>2018-11-16T02:26:09.000Z</td>\n",
              "      <td>2018-11-16T02:26:08.000Z</td>\n",
              "      <td>3</td>\n",
              "      <td>6-3</td>\n",
              "      <td>203</td>\n",
              "      <td>06/02/1995</td>\n",
              "      <td>Oklahoma State</td>\n",
              "      <td>CB</td>\n",
              "      <td>SEA</td>\n",
              "      <td>GB</td>\n",
              "      <td>11</td>\n",
              "      <td>CenturyLink Field</td>\n",
              "      <td>Seattle, WA</td>\n",
              "      <td>Outdoor</td>\n",
              "      <td>FieldTurf</td>\n",
              "      <td>Partly Cloudy</td>\n",
              "      <td>54.0</td>\n",
              "      <td>69.0</td>\n",
              "      <td>6</td>\n",
              "      <td>South</td>\n",
              "    </tr>\n",
              "    <tr>\n",
              "      <th>404447</th>\n",
              "      <td>2018111500</td>\n",
              "      <td>20181115001638</td>\n",
              "      <td>home</td>\n",
              "      <td>89.34</td>\n",
              "      <td>24.48</td>\n",
              "      <td>0.80</td>\n",
              "      <td>1.83</td>\n",
              "      <td>0.09</td>\n",
              "      <td>64.07</td>\n",
              "      <td>131.03</td>\n",
              "      <td>2560998</td>\n",
              "      <td>Rasheem Green</td>\n",
              "      <td>94</td>\n",
              "      <td>2018</td>\n",
              "      <td>21</td>\n",
              "      <td>2</td>\n",
              "      <td>06:45:00</td>\n",
              "      <td>GB</td>\n",
              "      <td>1</td>\n",
              "      <td>10</td>\n",
              "      <td>GB</td>\n",
              "      <td>10</td>\n",
              "      <td>14</td>\n",
              "      <td>2558116</td>\n",
              "      <td>SINGLEBACK</td>\n",
              "      <td>1 RB, 1 TE, 3 WR</td>\n",
              "      <td>6.0</td>\n",
              "      <td>4 DL, 2 LB, 5 DB</td>\n",
              "      <td>left</td>\n",
              "      <td>2018-11-16T02:26:09.000Z</td>\n",
              "      <td>2018-11-16T02:26:08.000Z</td>\n",
              "      <td>3</td>\n",
              "      <td>6-4</td>\n",
              "      <td>279</td>\n",
              "      <td>05/15/1997</td>\n",
              "      <td>Southern California</td>\n",
              "      <td>DE</td>\n",
              "      <td>SEA</td>\n",
              "      <td>GB</td>\n",
              "      <td>11</td>\n",
              "      <td>CenturyLink Field</td>\n",
              "      <td>Seattle, WA</td>\n",
              "      <td>Outdoor</td>\n",
              "      <td>FieldTurf</td>\n",
              "      <td>Partly Cloudy</td>\n",
              "      <td>54.0</td>\n",
              "      <td>69.0</td>\n",
              "      <td>6</td>\n",
              "      <td>South</td>\n",
              "    </tr>\n",
              "  </tbody>\n",
              "</table>\n",
              "</div>\n",
              "      <button class=\"colab-df-convert\" onclick=\"convertToInteractive('df-ad5942fa-5b58-479b-a8ab-a5303dab89a4')\"\n",
              "              title=\"Convert this dataframe to an interactive table.\"\n",
              "              style=\"display:none;\">\n",
              "        \n",
              "  <svg xmlns=\"http://www.w3.org/2000/svg\" height=\"24px\"viewBox=\"0 0 24 24\"\n",
              "       width=\"24px\">\n",
              "    <path d=\"M0 0h24v24H0V0z\" fill=\"none\"/>\n",
              "    <path d=\"M18.56 5.44l.94 2.06.94-2.06 2.06-.94-2.06-.94-.94-2.06-.94 2.06-2.06.94zm-11 1L8.5 8.5l.94-2.06 2.06-.94-2.06-.94L8.5 2.5l-.94 2.06-2.06.94zm10 10l.94 2.06.94-2.06 2.06-.94-2.06-.94-.94-2.06-.94 2.06-2.06.94z\"/><path d=\"M17.41 7.96l-1.37-1.37c-.4-.4-.92-.59-1.43-.59-.52 0-1.04.2-1.43.59L10.3 9.45l-7.72 7.72c-.78.78-.78 2.05 0 2.83L4 21.41c.39.39.9.59 1.41.59.51 0 1.02-.2 1.41-.59l7.78-7.78 2.81-2.81c.8-.78.8-2.07 0-2.86zM5.41 20L4 18.59l7.72-7.72 1.47 1.35L5.41 20z\"/>\n",
              "  </svg>\n",
              "      </button>\n",
              "      \n",
              "  <style>\n",
              "    .colab-df-container {\n",
              "      display:flex;\n",
              "      flex-wrap:wrap;\n",
              "      gap: 12px;\n",
              "    }\n",
              "\n",
              "    .colab-df-convert {\n",
              "      background-color: #E8F0FE;\n",
              "      border: none;\n",
              "      border-radius: 50%;\n",
              "      cursor: pointer;\n",
              "      display: none;\n",
              "      fill: #1967D2;\n",
              "      height: 32px;\n",
              "      padding: 0 0 0 0;\n",
              "      width: 32px;\n",
              "    }\n",
              "\n",
              "    .colab-df-convert:hover {\n",
              "      background-color: #E2EBFA;\n",
              "      box-shadow: 0px 1px 2px rgba(60, 64, 67, 0.3), 0px 1px 3px 1px rgba(60, 64, 67, 0.15);\n",
              "      fill: #174EA6;\n",
              "    }\n",
              "\n",
              "    [theme=dark] .colab-df-convert {\n",
              "      background-color: #3B4455;\n",
              "      fill: #D2E3FC;\n",
              "    }\n",
              "\n",
              "    [theme=dark] .colab-df-convert:hover {\n",
              "      background-color: #434B5C;\n",
              "      box-shadow: 0px 1px 3px 1px rgba(0, 0, 0, 0.15);\n",
              "      filter: drop-shadow(0px 1px 2px rgba(0, 0, 0, 0.3));\n",
              "      fill: #FFFFFF;\n",
              "    }\n",
              "  </style>\n",
              "\n",
              "      <script>\n",
              "        const buttonEl =\n",
              "          document.querySelector('#df-ad5942fa-5b58-479b-a8ab-a5303dab89a4 button.colab-df-convert');\n",
              "        buttonEl.style.display =\n",
              "          google.colab.kernel.accessAllowed ? 'block' : 'none';\n",
              "\n",
              "        async function convertToInteractive(key) {\n",
              "          const element = document.querySelector('#df-ad5942fa-5b58-479b-a8ab-a5303dab89a4');\n",
              "          const dataTable =\n",
              "            await google.colab.kernel.invokeFunction('convertToInteractive',\n",
              "                                                     [key], {});\n",
              "          if (!dataTable) return;\n",
              "\n",
              "          const docLinkHtml = 'Like what you see? Visit the ' +\n",
              "            '<a target=\"_blank\" href=https://colab.research.google.com/notebooks/data_table.ipynb>data table notebook</a>'\n",
              "            + ' to learn more about interactive tables.';\n",
              "          element.innerHTML = '';\n",
              "          dataTable['output_type'] = 'display_data';\n",
              "          await google.colab.output.renderOutput(dataTable, element);\n",
              "          const docLink = document.createElement('div');\n",
              "          docLink.innerHTML = docLinkHtml;\n",
              "          element.appendChild(docLink);\n",
              "        }\n",
              "      </script>\n",
              "    </div>\n",
              "  </div>\n",
              "  "
            ],
            "text/plain": [
              "            GameId          PlayId  Team  ...  Humidity  WindSpeed  WindDirection\n",
              "404426  2018111500  20181115001638  away  ...      69.0          6          South\n",
              "404427  2018111500  20181115001638  away  ...      69.0          6          South\n",
              "404428  2018111500  20181115001638  away  ...      69.0          6          South\n",
              "404429  2018111500  20181115001638  away  ...      69.0          6          South\n",
              "404430  2018111500  20181115001638  away  ...      69.0          6          South\n",
              "404431  2018111500  20181115001638  away  ...      69.0          6          South\n",
              "404432  2018111500  20181115001638  away  ...      69.0          6          South\n",
              "404433  2018111500  20181115001638  away  ...      69.0          6          South\n",
              "404434  2018111500  20181115001638  away  ...      69.0          6          South\n",
              "404435  2018111500  20181115001638  away  ...      69.0          6          South\n",
              "404436  2018111500  20181115001638  away  ...      69.0          6          South\n",
              "404437  2018111500  20181115001638  home  ...      69.0          6          South\n",
              "404438  2018111500  20181115001638  home  ...      69.0          6          South\n",
              "404439  2018111500  20181115001638  home  ...      69.0          6          South\n",
              "404440  2018111500  20181115001638  home  ...      69.0          6          South\n",
              "404441  2018111500  20181115001638  home  ...      69.0          6          South\n",
              "404442  2018111500  20181115001638  home  ...      69.0          6          South\n",
              "404443  2018111500  20181115001638  home  ...      69.0          6          South\n",
              "404444  2018111500  20181115001638  home  ...      69.0          6          South\n",
              "404445  2018111500  20181115001638  home  ...      69.0          6          South\n",
              "404446  2018111500  20181115001638  home  ...      69.0          6          South\n",
              "404447  2018111500  20181115001638  home  ...      69.0          6          South\n",
              "\n",
              "[22 rows x 49 columns]"
            ]
          },
          "metadata": {},
          "execution_count": 9
        }
      ]
    },
    {
      "cell_type": "code",
      "source": [
        "data_raw[data_raw['PlayId'] == 20181115001638].shape[0]\n",
        "# Confirmed: there are 22 rows with 'PlayId' == 20181115001638"
      ],
      "metadata": {
        "colab": {
          "base_uri": "https://localhost:8080/"
        },
        "id": "HN8Jgjf4T2p-",
        "outputId": "0b02a316-3410-4aa9-9c4d-65f28594f2c8"
      },
      "execution_count": null,
      "outputs": [
        {
          "output_type": "execute_result",
          "data": {
            "text/plain": [
              "22"
            ]
          },
          "metadata": {},
          "execution_count": 10
        }
      ]
    },
    {
      "cell_type": "markdown",
      "source": [
        "Columns with info about entire play: Season, GameClock, Possession Team. \n",
        "Columns with info about specific player: X, Y, S."
      ],
      "metadata": {
        "id": "o64cDsT0PgK_"
      }
    },
    {
      "cell_type": "markdown",
      "source": [
        "Part c)"
      ],
      "metadata": {
        "id": "WwOXARp_Qeca"
      }
    },
    {
      "cell_type": "code",
      "source": [
        "data_raw[data_raw['DefendersInTheBox']==3].value_counts('PlayId').shape[0]\n",
        "# There are 18 unique plays with 3 defenders in the box"
      ],
      "metadata": {
        "colab": {
          "base_uri": "https://localhost:8080/"
        },
        "id": "qTp40rBITwf7",
        "outputId": "df7df712-9572-47e7-f307-dd2cf5f8cec4"
      },
      "execution_count": null,
      "outputs": [
        {
          "output_type": "execute_result",
          "data": {
            "text/plain": [
              "18"
            ]
          },
          "metadata": {},
          "execution_count": 11
        }
      ]
    },
    {
      "cell_type": "markdown",
      "source": [
        "You could have found the number of unique PlayId's by dividing the total number of rows where data_raw['DefendersInTheBox']==3 by 22 since each play has 22 rows. "
      ],
      "metadata": {
        "id": "WOTML0K0S0I_"
      }
    },
    {
      "cell_type": "code",
      "source": [
        "len(data_raw[data_raw['DefendersInTheBox']==3])/len(data_raw)"
      ],
      "metadata": {
        "colab": {
          "base_uri": "https://localhost:8080/"
        },
        "id": "DAjlx1LaHO6o",
        "outputId": "88ef2b8e-2889-4d98-fddf-1462d6697d26"
      },
      "execution_count": null,
      "outputs": [
        {
          "output_type": "execute_result",
          "data": {
            "text/plain": [
              "0.0007768331103534591"
            ]
          },
          "metadata": {},
          "execution_count": 12
        }
      ]
    },
    {
      "cell_type": "markdown",
      "source": [
        "Only 0.078% of all the rushing plays had three defenders in the box. It is an uncommon situation."
      ],
      "metadata": {
        "id": "5PK5FJtsP8c9"
      }
    },
    {
      "cell_type": "markdown",
      "source": [
        "Part d)"
      ],
      "metadata": {
        "id": "ADop9Aj9TBzd"
      }
    },
    {
      "cell_type": "code",
      "source": [
        "data_raw[data_raw['DisplayName']==\"Michael Thomas\"].value_counts('GameId').shape[0] #or len()\n",
        "# Player(s) called Michael Thomas played in 50 unique games`"
      ],
      "metadata": {
        "colab": {
          "base_uri": "https://localhost:8080/"
        },
        "id": "zubam1nsTV4e",
        "outputId": "4b26f463-4b3b-475e-9ff3-5d39be28e2d3"
      },
      "execution_count": null,
      "outputs": [
        {
          "output_type": "execute_result",
          "data": {
            "text/plain": [
              "50"
            ]
          },
          "metadata": {},
          "execution_count": 13
        }
      ]
    },
    {
      "cell_type": "markdown",
      "source": [
        "Part e)"
      ],
      "metadata": {
        "id": "Ujs72qZyUTUa"
      }
    },
    {
      "cell_type": "code",
      "source": [
        "data_raw[data_raw['DisplayName']==\"Michael Thomas\"].value_counts('NflId')\n",
        "# There are two NflId's linked to the DisplayName \"Michael Thomas\""
      ],
      "metadata": {
        "colab": {
          "base_uri": "https://localhost:8080/"
        },
        "id": "IHn553ecUUwB",
        "outputId": "aa2f328c-3632-4e10-c3e5-efc1a219cc61"
      },
      "execution_count": null,
      "outputs": [
        {
          "output_type": "execute_result",
          "data": {
            "text/plain": [
              "NflId\n",
              "2556370    621\n",
              "2535687    226\n",
              "dtype: int64"
            ]
          },
          "metadata": {},
          "execution_count": 14
        }
      ]
    },
    {
      "cell_type": "code",
      "source": [
        "data_raw[data_raw['NflId']==2556370].value_counts('GameId').shape[0]\n",
        "#Michael Thomas with NflId 2556370 played 32 games"
      ],
      "metadata": {
        "colab": {
          "base_uri": "https://localhost:8080/"
        },
        "id": "Ar4_ALLDVZx3",
        "outputId": "1fff30a3-0688-4734-d9a0-a4debb0f9945"
      },
      "execution_count": null,
      "outputs": [
        {
          "output_type": "execute_result",
          "data": {
            "text/plain": [
              "32"
            ]
          },
          "metadata": {},
          "execution_count": 15
        }
      ]
    },
    {
      "cell_type": "code",
      "source": [
        "data_raw[data_raw['NflId']==2535687].value_counts('GameId').shape[0]\n",
        "#Michael Thomas with NflId 2535687 played 19 games"
      ],
      "metadata": {
        "colab": {
          "base_uri": "https://localhost:8080/"
        },
        "id": "AKjWoQakVmye",
        "outputId": "27a8dc5c-8699-46d9-dcd3-df4f201739e7"
      },
      "execution_count": null,
      "outputs": [
        {
          "output_type": "execute_result",
          "data": {
            "text/plain": [
              "19"
            ]
          },
          "metadata": {},
          "execution_count": 16
        }
      ]
    },
    {
      "cell_type": "markdown",
      "source": [
        "Part f)"
      ],
      "metadata": {
        "id": "A153pdB3W1W2"
      }
    },
    {
      "cell_type": "code",
      "source": [
        "\n",
        "data_raw[data_raw['DisplayName']==\"Michael Thomas\"].groupby(['NflId'])['GameId'].value_counts()\n",
        "# or .count(), which works on groupby object\n",
        "# or .size(), which displays the sizes of the groups # would code 'data_raw[data_raw['DisplayName']==\"Michael Thomas\"].groupby(['NflId', 'GameId']).size()'\n",
        "\n",
        "#Each number indicate the number of plays that a particular Michael Thomas participated in within that particular game"
      ],
      "metadata": {
        "colab": {
          "base_uri": "https://localhost:8080/"
        },
        "id": "Wy7t06ntWfJk",
        "outputId": "ab1a2f76-a5df-40d9-da3e-6c68fad6c867"
      },
      "execution_count": null,
      "outputs": [
        {
          "output_type": "execute_result",
          "data": {
            "text/plain": [
              "NflId    GameId    \n",
              "2535687  2018121608    38\n",
              "         2017102600    28\n",
              "         2017110510    23\n",
              "         2018123008    18\n",
              "         2018120908    15\n",
              "         2018120207    14\n",
              "         2018122300    14\n",
              "         2017092408    13\n",
              "         2017112604    13\n",
              "         2018112506    13\n",
              "         2018111200    11\n",
              "         2018092303     8\n",
              "         2017100100     4\n",
              "         2018111805     4\n",
              "         2018102200     3\n",
              "         2018090907     2\n",
              "         2018100701     2\n",
              "         2018102806     2\n",
              "         2018101100     1\n",
              "2556370  2018102101    29\n",
              "         2017111200    28\n",
              "         2018121700    27\n",
              "         2018102811    26\n",
              "         2017101504    25\n",
              "         2018093011    25\n",
              "         2018110409    25\n",
              "         2018120907    25\n",
              "         2018112202    24\n",
              "         2017121705    23\n",
              "         2017102203    22\n",
              "         2018111809    22\n",
              "         2017100100    21\n",
              "         2017110503    21\n",
              "         2017123110    21\n",
              "         2018092300    21\n",
              "         2018111101    21\n",
              "         2017091100    19\n",
              "         2017092402    18\n",
              "         2018091603    18\n",
              "         2018112900    18\n",
              "         2017102904    17\n",
              "         2017120307    16\n",
              "         2017122405    16\n",
              "         2018100800    14\n",
              "         2018090906    13\n",
              "         2018122313    13\n",
              "         2017111905    12\n",
              "         2018123007    12\n",
              "         2017091705    11\n",
              "         2017120700    10\n",
              "         2017112607     8\n",
              "Name: GameId, dtype: int64"
            ]
          },
          "metadata": {},
          "execution_count": 17
        }
      ]
    },
    {
      "cell_type": "markdown",
      "source": [
        "Part g)"
      ],
      "metadata": {
        "id": "Pyvd6pnXajQk"
      }
    },
    {
      "cell_type": "code",
      "source": [
        "data_raw.groupby(['Season'])['Stadium'].value_counts()\n",
        "# or data_raw.groupby(['Season','Stadium']).size()"
      ],
      "metadata": {
        "id": "p55VDNrlW2wt",
        "colab": {
          "base_uri": "https://localhost:8080/"
        },
        "outputId": "ccb47964-f985-4252-f184-bd3e345a8e6b"
      },
      "execution_count": null,
      "outputs": [
        {
          "output_type": "execute_result",
          "data": {
            "text/plain": [
              "Season  Stadium                      \n",
              "2017    MetLife Stadium                  10054\n",
              "        New Era Field                     9086\n",
              "        Levis Stadium                     8932\n",
              "        Lucas Oil Stadium                 8668\n",
              "        Paul Brown Stadium                8558\n",
              "                                         ...  \n",
              "2018    M&T Stadium                       1078\n",
              "        Lambeau field                     1012\n",
              "        Los Angeles Memorial Coliesum     1012\n",
              "        Broncos Stadium At Mile High       990\n",
              "        Metlife Stadium                    836\n",
              "Name: Stadium, Length: 88, dtype: int64"
            ]
          },
          "metadata": {},
          "execution_count": 18
        }
      ]
    },
    {
      "cell_type": "markdown",
      "source": [
        "Part h)"
      ],
      "metadata": {
        "id": "fURmZr-tyxZm"
      }
    },
    {
      "cell_type": "code",
      "source": [
        "data_raw.value_counts('WindDirection')"
      ],
      "metadata": {
        "colab": {
          "base_uri": "https://localhost:8080/"
        },
        "id": "W44Mq1t2yyzO",
        "outputId": "742a6ce1-97c2-49f3-a776-e93af801b0be"
      },
      "execution_count": null,
      "outputs": [
        {
          "output_type": "execute_result",
          "data": {
            "text/plain": [
              "WindDirection\n",
              "NE                 30250\n",
              "NW                 27236\n",
              "SW                 25828\n",
              "SE                 25784\n",
              "WSW                24222\n",
              "N                  23188\n",
              "W                  22198\n",
              "S                  21384\n",
              "NNE                20394\n",
              "South              20328\n",
              "SSW                19910\n",
              "WNW                19118\n",
              "North              17182\n",
              "NNW                14036\n",
              "West               13618\n",
              "SSE                13376\n",
              "E                  12826\n",
              "ENE                10802\n",
              "ESE                 9878\n",
              "East                7348\n",
              "Northwest           4070\n",
              "From SW             3872\n",
              "Northeast           3652\n",
              "NorthEast           3212\n",
              "From S              3146\n",
              "s                   2728\n",
              "SouthWest           2134\n",
              "Southeast           1936\n",
              "W-NW                1804\n",
              "Southwest           1804\n",
              "West-Southwest      1386\n",
              "8                   1144\n",
              "1                   1122\n",
              "North East          1100\n",
              "East Southeast      1078\n",
              "West Northwest      1056\n",
              "Calm                1056\n",
              "N-NE                1012\n",
              "From W               990\n",
              "From NNE             968\n",
              "From SSW             968\n",
              "North/Northwest      968\n",
              "W-SW                 968\n",
              "South Southeast      946\n",
              "From WSW             946\n",
              "From NNW             924\n",
              "EAST                 902\n",
              "From SSE             880\n",
              "South Southwest      858\n",
              "13                   836\n",
              "East North East      748\n",
              "from W               726\n",
              "From ESE             682\n",
              "dtype: int64"
            ]
          },
          "metadata": {},
          "execution_count": 19
        }
      ]
    },
    {
      "cell_type": "markdown",
      "source": [
        "# Section 3"
      ],
      "metadata": {
        "id": "xUi6JG11iKXo"
      }
    },
    {
      "cell_type": "markdown",
      "source": [
        "Part a)"
      ],
      "metadata": {
        "id": "uF6mxVQRiMJt"
      }
    },
    {
      "cell_type": "code",
      "source": [
        "sns.distplot(data_raw['Yards'], kde = False)\n",
        "plt.show()\n",
        "\n",
        "# Only 2017 season\n",
        "sns.distplot(data_raw[data_raw['Season']==2017]['Yards'], kde = False)\n",
        "plt.show()\n",
        "\n",
        "# Only 2018 season\n",
        "sns.distplot(data_raw[data_raw['Season']==2018]['Yards'], kde = False)\n",
        "plt.show()"
      ],
      "metadata": {
        "colab": {
          "base_uri": "https://localhost:8080/",
          "height": 876
        },
        "id": "tog_CVTviNTh",
        "outputId": "b52848d7-c4ef-432f-ba5d-5adadd5d7eda"
      },
      "execution_count": null,
      "outputs": [
        {
          "output_type": "stream",
          "name": "stderr",
          "text": [
            "/usr/local/lib/python3.7/dist-packages/seaborn/distributions.py:2619: FutureWarning: `distplot` is a deprecated function and will be removed in a future version. Please adapt your code to use either `displot` (a figure-level function with similar flexibility) or `histplot` (an axes-level function for histograms).\n",
            "  warnings.warn(msg, FutureWarning)\n"
          ]
        },
        {
          "output_type": "display_data",
          "data": {
            "image/png": "[encoded data removed]",
            "text/plain": [
              "<Figure size 432x288 with 1 Axes>"
            ]
          },
          "metadata": {}
        },
        {
          "output_type": "display_data",
          "data": {
            "image/png": "[encoded data removed]",
            "text/plain": [
              "<Figure size 432x288 with 1 Axes>"
            ]
          },
          "metadata": {}
        },
        {
          "output_type": "display_data",
          "data": {
            "image/png": "[encoded data removed]",
            "text/plain": [
              "<Figure size 432x288 with 1 Axes>"
            ]
          },
          "metadata": {}
        }
      ]
    },
    {
      "cell_type": "code",
      "source": [
        "# Max yards for 2017\n",
        "data_raw[data_raw['Season']==2017]['Yards'].max()"
      ],
      "metadata": {
        "colab": {
          "base_uri": "https://localhost:8080/"
        },
        "id": "JS1Vwocij72k",
        "outputId": "bda43eb2-b367-4f62-8927-01968b34c47f"
      },
      "execution_count": null,
      "outputs": [
        {
          "output_type": "execute_result",
          "data": {
            "text/plain": [
              "90"
            ]
          },
          "metadata": {},
          "execution_count": 21
        }
      ]
    },
    {
      "cell_type": "code",
      "source": [
        "# Max yards for 2018\n",
        "data_raw[data_raw['Season']==2018]['Yards'].max()"
      ],
      "metadata": {
        "colab": {
          "base_uri": "https://localhost:8080/"
        },
        "id": "bv0juttakcn6",
        "outputId": "edb9fd70-74f4-4518-f6c9-80cec0142d7f"
      },
      "execution_count": null,
      "outputs": [
        {
          "output_type": "execute_result",
          "data": {
            "text/plain": [
              "99"
            ]
          },
          "metadata": {},
          "execution_count": 22
        }
      ]
    },
    {
      "cell_type": "markdown",
      "source": [
        "The overall Yards distribution is skewed to the right, with most values lying between about 0 and 5 yards. The maximum yard gain is 90yds for 2017 and 99yds for 2018."
      ],
      "metadata": {
        "id": "0ivJsG51pUZc"
      }
    },
    {
      "cell_type": "markdown",
      "source": [
        "Part b)"
      ],
      "metadata": {
        "id": "yr_LC43yoz-8"
      }
    },
    {
      "cell_type": "code",
      "source": [
        "sns.boxplot(data_raw['Yards'])"
      ],
      "metadata": {
        "colab": {
          "base_uri": "https://localhost:8080/",
          "height": 357
        },
        "id": "IZv9PCwumv9O",
        "outputId": "83ab382d-7586-43c9-b9ea-ddebae060642"
      },
      "execution_count": null,
      "outputs": [
        {
          "output_type": "stream",
          "name": "stderr",
          "text": [
            "/usr/local/lib/python3.7/dist-packages/seaborn/_decorators.py:43: FutureWarning: Pass the following variable as a keyword arg: x. From version 0.12, the only valid positional argument will be `data`, and passing other arguments without an explicit keyword will result in an error or misinterpretation.\n",
            "  FutureWarning\n"
          ]
        },
        {
          "output_type": "execute_result",
          "data": {
            "text/plain": [
              "<matplotlib.axes._subplots.AxesSubplot at 0x7f395c0bfa50>"
            ]
          },
          "metadata": {},
          "execution_count": 23
        },
        {
          "output_type": "display_data",
          "data": {
            "image/png": "[encoded data removed]",
            "text/plain": [
              "<Figure size 432x288 with 1 Axes>"
            ]
          },
          "metadata": {}
        }
      ]
    },
    {
      "cell_type": "markdown",
      "source": [
        "The boxplot emphasizes the maximum and mininum values - whereas we can't see where exactly the distribution plot tapers off, here we can clearly see the extreme values. However, the boxplot is also misleading in this way, because the extreme datapoints take up more space and therefore emphasis."
      ],
      "metadata": {
        "id": "x0E7DuBqpXel"
      }
    },
    {
      "cell_type": "markdown",
      "source": [
        "Part c)"
      ],
      "metadata": {
        "id": "1BDxt9hnp92q"
      }
    },
    {
      "cell_type": "code",
      "source": [
        "sns.distplot(data_raw['Y'])"
      ],
      "metadata": {
        "colab": {
          "base_uri": "https://localhost:8080/",
          "height": 357
        },
        "id": "nbwg3uU_qL8t",
        "outputId": "a13987b5-43dd-4643-892b-d9ebaee0a247"
      },
      "execution_count": null,
      "outputs": [
        {
          "output_type": "stream",
          "name": "stderr",
          "text": [
            "/usr/local/lib/python3.7/dist-packages/seaborn/distributions.py:2619: FutureWarning: `distplot` is a deprecated function and will be removed in a future version. Please adapt your code to use either `displot` (a figure-level function with similar flexibility) or `histplot` (an axes-level function for histograms).\n",
            "  warnings.warn(msg, FutureWarning)\n"
          ]
        },
        {
          "output_type": "execute_result",
          "data": {
            "text/plain": [
              "<matplotlib.axes._subplots.AxesSubplot at 0x7f395bfc0cd0>"
            ]
          },
          "metadata": {},
          "execution_count": 24
        },
        {
          "output_type": "display_data",
          "data": {
            "image/png": "[encoded data removed]",
            "text/plain": [
              "<Figure size 432x288 with 1 Axes>"
            ]
          },
          "metadata": {}
        }
      ]
    },
    {
      "cell_type": "code",
      "source": [
        "sns.distplot(data_raw['Humidity'])"
      ],
      "metadata": {
        "colab": {
          "base_uri": "https://localhost:8080/",
          "height": 357
        },
        "id": "oJFwPT3TqeYw",
        "outputId": "5c9e75a2-4f56-4026-d3e2-49839e75230a"
      },
      "execution_count": null,
      "outputs": [
        {
          "output_type": "stream",
          "name": "stderr",
          "text": [
            "/usr/local/lib/python3.7/dist-packages/seaborn/distributions.py:2619: FutureWarning: `distplot` is a deprecated function and will be removed in a future version. Please adapt your code to use either `displot` (a figure-level function with similar flexibility) or `histplot` (an axes-level function for histograms).\n",
            "  warnings.warn(msg, FutureWarning)\n"
          ]
        },
        {
          "output_type": "execute_result",
          "data": {
            "text/plain": [
              "<matplotlib.axes._subplots.AxesSubplot at 0x7f395be82150>"
            ]
          },
          "metadata": {},
          "execution_count": 25
        },
        {
          "output_type": "display_data",
          "data": {
            "image/png": "[encoded data removed]",
            "text/plain": [
              "<Figure size 432x288 with 1 Axes>"
            ]
          },
          "metadata": {}
        }
      ]
    },
    {
      "cell_type": "code",
      "source": [
        "sns.distplot(data_raw['A'])"
      ],
      "metadata": {
        "colab": {
          "base_uri": "https://localhost:8080/",
          "height": 357
        },
        "id": "epKJSsvEqcAA",
        "outputId": "67136b48-5a68-4b08-d43d-c426afc87ca5"
      },
      "execution_count": null,
      "outputs": [
        {
          "output_type": "stream",
          "name": "stderr",
          "text": [
            "/usr/local/lib/python3.7/dist-packages/seaborn/distributions.py:2619: FutureWarning: `distplot` is a deprecated function and will be removed in a future version. Please adapt your code to use either `displot` (a figure-level function with similar flexibility) or `histplot` (an axes-level function for histograms).\n",
            "  warnings.warn(msg, FutureWarning)\n"
          ]
        },
        {
          "output_type": "execute_result",
          "data": {
            "text/plain": [
              "<matplotlib.axes._subplots.AxesSubplot at 0x7f3959518d90>"
            ]
          },
          "metadata": {},
          "execution_count": 26
        },
        {
          "output_type": "display_data",
          "data": {
            "image/png": "[encoded data removed]",
            "text/plain": [
              "<Figure size 432x288 with 1 Axes>"
            ]
          },
          "metadata": {}
        }
      ]
    },
    {
      "cell_type": "markdown",
      "source": [
        "The football field is 53.3yds wide along the Y dimension, and so it makes sense that the Y plot is symmetrical roughly along the Y = 27yds. It also makes sense that more rushes happen when the player is near the middle of the field since the chance of gaining yards is low when you start off being almost out."
      ],
      "metadata": {
        "id": "-W-ZwygYqtGC"
      }
    },
    {
      "cell_type": "markdown",
      "source": [
        "Part d)"
      ],
      "metadata": {
        "id": "jZIDJU90rSkj"
      }
    },
    {
      "cell_type": "code",
      "source": [
        "sns.relplot(x='YardLine', y='Yards', data=data_raw)"
      ],
      "metadata": {
        "colab": {
          "base_uri": "https://localhost:8080/",
          "height": 382
        },
        "id": "g7XSRkB2qsVP",
        "outputId": "5a09815d-3bb4-4eed-b48a-e1e7a732c630"
      },
      "execution_count": null,
      "outputs": [
        {
          "output_type": "execute_result",
          "data": {
            "text/plain": [
              "<seaborn.axisgrid.FacetGrid at 0x7f395c021150>"
            ]
          },
          "metadata": {},
          "execution_count": 27
        },
        {
          "output_type": "display_data",
          "data": {
            "image/png": "[encoded data removed]",
            "text/plain": [
              "<Figure size 360x360 with 1 Axes>"
            ]
          },
          "metadata": {}
        }
      ]
    },
    {
      "cell_type": "markdown",
      "source": [
        "The diagonal line shows the maximum yards that can be gained before reaching the end of the field, which is a touchdown."
      ],
      "metadata": {
        "id": "aQRlWGuqD68C"
      }
    },
    {
      "cell_type": "markdown",
      "source": [
        "Part e)"
      ],
      "metadata": {
        "id": "qQZyxCvnEKMr"
      }
    },
    {
      "cell_type": "code",
      "source": [
        "sns.boxplot(x='Season', y='Humidity', data=data_raw)"
      ],
      "metadata": {
        "colab": {
          "base_uri": "https://localhost:8080/",
          "height": 302
        },
        "id": "tzSnUMbdELIW",
        "outputId": "abf2eaaa-3914-4d69-81d6-14a22f713baf"
      },
      "execution_count": null,
      "outputs": [
        {
          "output_type": "execute_result",
          "data": {
            "text/plain": [
              "<matplotlib.axes._subplots.AxesSubplot at 0x7f395c12e9d0>"
            ]
          },
          "metadata": {},
          "execution_count": 28
        },
        {
          "output_type": "display_data",
          "data": {
            "image/png": "[encoded data removed]",
            "text/plain": [
              "<Figure size 432x288 with 1 Axes>"
            ]
          },
          "metadata": {}
        }
      ]
    },
    {
      "cell_type": "markdown",
      "source": [
        "The boxplot is pretty effective here because it lets us compare both the median and the spread of humidity data from the two seasons. This plot shows us that it was overall more humid in the 2018 season."
      ],
      "metadata": {
        "id": "447RvruDEhVe"
      }
    },
    {
      "cell_type": "markdown",
      "source": [
        "Part f)"
      ],
      "metadata": {
        "id": "XNWfJovqE-Yh"
      }
    },
    {
      "cell_type": "code",
      "source": [
        "sns.violinplot(x='Season', y='Humidity', data=data_raw)"
      ],
      "metadata": {
        "colab": {
          "base_uri": "https://localhost:8080/",
          "height": 302
        },
        "id": "iZv2R2rrE9vp",
        "outputId": "cc7fac75-7db2-44fd-81cf-184c03c627ff"
      },
      "execution_count": null,
      "outputs": [
        {
          "output_type": "execute_result",
          "data": {
            "text/plain": [
              "<matplotlib.axes._subplots.AxesSubplot at 0x7f395d5a3cd0>"
            ]
          },
          "metadata": {},
          "execution_count": 29
        },
        {
          "output_type": "display_data",
          "data": {
            "image/png": "[encoded data removed]",
            "text/plain": [
              "<Figure size 432x288 with 1 Axes>"
            ]
          },
          "metadata": {}
        }
      ]
    },
    {
      "cell_type": "markdown",
      "source": [
        "The violin plot shows us the shape of the distribution, which the boxplot leaves out. Looking at the violin plot, the difference in humidity between the two seasons is not as significant as the boxplot makes it appear."
      ],
      "metadata": {
        "id": "BD23H_NkFckW"
      }
    },
    {
      "cell_type": "markdown",
      "source": [
        "Part g)"
      ],
      "metadata": {
        "id": "Ha28FqufF0cO"
      }
    },
    {
      "cell_type": "code",
      "source": [
        "sns.violinplot(x='OffenseFormation', y='Yards', data=data_raw)"
      ],
      "metadata": {
        "colab": {
          "base_uri": "https://localhost:8080/",
          "height": 303
        },
        "id": "Nj9AX1LIGRxC",
        "outputId": "a74f2f8d-1a84-462f-e58e-94a5d91ce655"
      },
      "execution_count": null,
      "outputs": [
        {
          "output_type": "execute_result",
          "data": {
            "text/plain": [
              "<matplotlib.axes._subplots.AxesSubplot at 0x7f395c10a550>"
            ]
          },
          "metadata": {},
          "execution_count": 30
        },
        {
          "output_type": "display_data",
          "data": {
            "image/png": "[encoded data removed]",
            "text/plain": [
              "<Figure size 432x288 with 1 Axes>"
            ]
          },
          "metadata": {}
        }
      ]
    },
    {
      "cell_type": "markdown",
      "source": [
        "It appears that in the majority of cases, different offense formations result in similar yards gained, but some offense formation have higher reward/higher risk than others."
      ],
      "metadata": {
        "id": "4gbDr7PA5AL7"
      }
    },
    {
      "cell_type": "markdown",
      "source": [
        "Part h)"
      ],
      "metadata": {
        "id": "dHLbJSueHRzy"
      }
    },
    {
      "cell_type": "code",
      "source": [
        "sns.relplot(x='Humidity', y='Yards', hue='Season', data=data_raw)"
      ],
      "metadata": {
        "colab": {
          "base_uri": "https://localhost:8080/",
          "height": 382
        },
        "id": "mxH4fwnzHYxv",
        "outputId": "12622c9a-491c-42c9-93e4-eaa9ed18771a"
      },
      "execution_count": null,
      "outputs": [
        {
          "output_type": "execute_result",
          "data": {
            "text/plain": [
              "<seaborn.axisgrid.FacetGrid at 0x7f395c126390>"
            ]
          },
          "metadata": {},
          "execution_count": 31
        },
        {
          "output_type": "display_data",
          "data": {
            "image/png": "[encoded data removed]",
            "text/plain": [
              "<Figure size 427.475x360 with 1 Axes>"
            ]
          },
          "metadata": {}
        }
      ]
    },
    {
      "cell_type": "markdown",
      "source": [
        "Part i)"
      ],
      "metadata": {
        "id": "9ExaFyFAIBuq"
      }
    },
    {
      "cell_type": "code",
      "source": [
        "sns.relplot(x='Humidity', y='Yards', data=data_raw)"
      ],
      "metadata": {
        "colab": {
          "base_uri": "https://localhost:8080/",
          "height": 382
        },
        "id": "PndPeK69IBDN",
        "outputId": "7464b105-0ee7-4869-e6fb-b05dc01099d4"
      },
      "execution_count": null,
      "outputs": [
        {
          "output_type": "execute_result",
          "data": {
            "text/plain": [
              "<seaborn.axisgrid.FacetGrid at 0x7f3959462790>"
            ]
          },
          "metadata": {},
          "execution_count": 32
        },
        {
          "output_type": "display_data",
          "data": {
            "image/png": "[encoded data removed]",
            "text/plain": [
              "<Figure size 360x360 with 1 Axes>"
            ]
          },
          "metadata": {}
        }
      ]
    },
    {
      "cell_type": "code",
      "source": [
        "sns.violinplot(x='Stadium', y='Yards', data=data_raw)"
      ],
      "metadata": {
        "colab": {
          "base_uri": "https://localhost:8080/",
          "height": 302
        },
        "id": "Rp8R7EChKe0_",
        "outputId": "fdcccf19-0608-42aa-947e-84aee79f7f8f"
      },
      "execution_count": null,
      "outputs": [
        {
          "output_type": "execute_result",
          "data": {
            "text/plain": [
              "<matplotlib.axes._subplots.AxesSubplot at 0x7f3958bd0550>"
            ]
          },
          "metadata": {},
          "execution_count": 33
        },
        {
          "output_type": "display_data",
          "data": {
            "image/png": "[encoded data removed]",
            "text/plain": [
              "<Figure size 432x288 with 1 Axes>"
            ]
          },
          "metadata": {}
        }
      ]
    },
    {
      "cell_type": "markdown",
      "source": [
        "I don't think Humidity or Stadium meaningfully affects yard gainage so it might not be useful to include these variables in the model at all."
      ],
      "metadata": {
        "id": "88yAJaYyKrQ_"
      }
    }
  ]
}